{
  "nbformat": 4,
  "nbformat_minor": 0,
  "metadata": {
    "colab": {
      "provenance": [],
      "toc_visible": true,
      "authorship_tag": "ABX9TyNxQDd36wxVfsEVQvVOPnC/",
      "include_colab_link": true
    },
    "kernelspec": {
      "name": "python3",
      "display_name": "Python 3"
    },
    "language_info": {
      "name": "python"
    }
  },
  "cells": [
    {
      "cell_type": "markdown",
      "metadata": {
        "id": "view-in-github",
        "colab_type": "text"
      },
      "source": [
        "<a href=\"https://colab.research.google.com/github/fdmy2713-dotcom/ADS1/blob/main/Farah_ADS1_Assignment_Statistics_and_Trends_v6.ipynb\" target=\"_parent\"><img src=\"https://colab.research.google.com/assets/colab-badge.svg\" alt=\"Open In Colab\"/></a>"
      ]
    },
    {
      "cell_type": "code",
      "execution_count": null,
      "metadata": {
        "id": "MAj_D2G3p3oe"
      },
      "outputs": [],
      "source": [
        "import pandas as pd\n",
        "import numpy as np\n",
        "import matplotlib.pyplot as plt\n",
        "import seaborn as sns\n",
        "import warnings\n",
        "\n",
        "# Ignore warnings\n",
        "warnings.filterwarnings(\"ignore\")"
      ]
    },
    {
      "cell_type": "code",
      "source": [
        "# Load the datasets\n",
        "df_residents_65plus = pd.read_csv('DataGov_Residents_65Plus.csv', index_col='year')\n",
        "\n",
        "# Print out the dataframe\n",
        "print(\"Residents 65Plus Data:\")\n",
        "print(df_residents_65plus)\n",
        "\n",
        "# Load the datasets\n",
        "df_nursinghome = pd.read_csv('DataGov_NursingHome_Beds.csv', index_col='year')\n",
        "\n",
        "# Print out the dataframe\n",
        "print(\"\\nNursing Home Data:\")\n",
        "print(df_nursinghome)"
      ],
      "metadata": {
        "id": "Czcw77kiqCG1"
      },
      "execution_count": null,
      "outputs": []
    },
    {
      "cell_type": "code",
      "source": [
        "# --- Load the datasets ---\n",
        "df_residents_65plus = pd.read_csv('/mnt/data/DataGov_Residents_65Plus.csv')\n",
        "df_nursinghome = pd.read_csv('/mnt/data/DataGov_NursingHome_Beds.csv')\n",
        "\n",
        "# --- Prepare Residents Data ---\n",
        "# Keep only year and total residents aged 65+\n",
        "df_residents = df_residents_65plus[['year', 'Total']].copy()\n",
        "df_residents['Total'] = pd.to_numeric(df_residents['Total'], errors='coerce')\n",
        "\n",
        "# Group by year (some datasets may repeat year entries)\n",
        "df_residents = df_residents.groupby('year', as_index=False)['Total'].sum()\n",
        "df_residents = df_residents.rename(columns={'Total': 'Residents65Plus'})\n",
        "\n",
        "# --- Prepare Nursing Home Data ---\n",
        "# Sum total number of beds by year\n",
        "df_nursinghome_beds = df_nursinghome.groupby('year', as_index=False)['no_beds'].sum()\n",
        "df_nursinghome_beds = df_nursinghome_beds.rename(columns={'no_beds': 'NursingHomeBeds'})\n",
        "\n",
        "# --- Merge both datasets by year ---\n",
        "df_merge = pd.merge(df_residents, df_nursinghome_beds, on='year', how='inner')\n",
        "\n",
        "# --- Define plotting function ---\n",
        "def plot_relational(df):\n",
        "    \"\"\"\n",
        "    Scatter + regression line showing how the number of nursing home beds relates to\n",
        "    number of elderly residents (65+).\n",
        "    \"\"\"\n",
        "    plt.figure(dpi=144)\n",
        "    sns.scatterplot(data=df, x=\"Residents65Plus\", y=\"NursingHomeBeds\", s=100)\n",
        "    sns.regplot(data=df, x=\"Residents65Plus\", y=\"NursingHomeBeds\", scatter=False, color=\"red\")\n",
        "\n",
        "    for _, row in df.iterrows():\n",
        "        plt.text(row[\"Residents65Plus\"], row[\"NursingHomeBeds\"], str(row[\"year\"]),\n",
        "                 fontsize=8, ha='right', va='bottom')\n",
        "\n",
        "    plt.title(\"Relation: Elderly Residents (65+) vs Nursing Home Beds (Singapore)\")\n",
        "    plt.xlabel(\"Number of Residents 65+\")\n",
        "    plt.ylabel(\"Number of Nursing Home Beds\")\n",
        "    plt.tight_layout()\n",
        "    plt.show()\n",
        "\n",
        "# --- Call the plotting function ---\n",
        "plot_relational(df_merge)\n",
        "\n",
        "# --- Display the merged dataset for verification ---\n",
        "print(\"\\nMerged Dataset (for plotting):\")\n",
        "print(df_merge)"
      ],
      "metadata": {
        "id": "tkX8ZNOFqP0q"
      },
      "execution_count": null,
      "outputs": []
    }
  ]
}