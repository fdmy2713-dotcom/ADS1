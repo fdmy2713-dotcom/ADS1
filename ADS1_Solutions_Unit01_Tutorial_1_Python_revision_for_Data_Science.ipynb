{
  "cells": [
    {
      "cell_type": "markdown",
      "metadata": {
        "id": "view-in-github",
        "colab_type": "text"
      },
      "source": [
        "<a href=\"https://colab.research.google.com/github/fdmy2713-dotcom/ADS1/blob/main/ADS1_Solutions_Unito1_Tutorial_1_Python_revision_for_Data_Science.ipynb\" target=\"_parent\"><img src=\"https://colab.research.google.com/assets/colab-badge.svg\" alt=\"Open In Colab\"/></a>"
      ]
    },
    {
      "cell_type": "markdown",
      "id": "fd1d3cea-7735-48df-b89b-e4611ffa5a82",
      "metadata": {
        "id": "fd1d3cea-7735-48df-b89b-e4611ffa5a82"
      },
      "source": [
        "# A Quick Python revision for Data Science"
      ]
    },
    {
      "cell_type": "markdown",
      "id": "2fddaaf9-5167-4f46-bd01-865a71d323e3",
      "metadata": {
        "id": "2fddaaf9-5167-4f46-bd01-865a71d323e3"
      },
      "source": [
        "## 1. Introduction to Python Basics\n",
        "Python is a versatile programming language that emphasizes readability and simplicity. Let's start by looking at some basic syntax elements of Python."
      ]
    },
    {
      "cell_type": "code",
      "execution_count": 25,
      "id": "4dcfb489-aa87-4554-893b-00b1cb376035",
      "metadata": {
        "id": "4dcfb489-aa87-4554-893b-00b1cb376035",
        "colab": {
          "base_uri": "https://localhost:8080/"
        },
        "outputId": "6fe2bb39-3eb0-4b8d-d629-17492332c005"
      },
      "outputs": [
        {
          "output_type": "stream",
          "name": "stdout",
          "text": [
            "Hello, I am studying Applied Data Science at PSB Academy!\n"
          ]
        }
      ],
      "source": [
        "# Example: Basic Python Syntax\n",
        "print(\"Hello, I am studying Applied Data Science at PSB Academy!\")  # This is a comment\n"
      ]
    },
    {
      "cell_type": "markdown",
      "id": "6f8a8433-f9a8-49a4-a4cf-aa8752af3e6c",
      "metadata": {
        "id": "6f8a8433-f9a8-49a4-a4cf-aa8752af3e6c"
      },
      "source": [
        "## 2. Variables, Data Types, and Scopes\n",
        "In Python, variables are containers for storing data. Python has several data types such as **integers, floats, strings, and booleans**.\n"
      ]
    },
    {
      "cell_type": "code",
      "execution_count": 26,
      "id": "75477059-05bc-41dd-91eb-4fc62f824a70",
      "metadata": {
        "id": "75477059-05bc-41dd-91eb-4fc62f824a70",
        "colab": {
          "base_uri": "https://localhost:8080/"
        },
        "outputId": "66835a3f-a30b-4b83-ee2f-8987948e5348"
      },
      "outputs": [
        {
          "output_type": "stream",
          "name": "stdout",
          "text": [
            "1 2.06 John Ahmad Sha True\n"
          ]
        }
      ],
      "source": [
        "# Example: Variables and Data Types\n",
        "x = 1  # Integer\n",
        "y = 2.06  # Float\n",
        "name = \"John\"  # String\n",
        "name2 = 'Ahmad Sha'\n",
        "is_student = True  # Boolean\n",
        "\n",
        "# Output the variables\n",
        "print(x, y, name,name2, is_student)\n"
      ]
    },
    {
      "cell_type": "code",
      "execution_count": null,
      "id": "27a75f8d-f7f6-40e6-86ca-c05ae15f595b",
      "metadata": {
        "id": "27a75f8d-f7f6-40e6-86ca-c05ae15f595b"
      },
      "outputs": [],
      "source": [
        "# Basic rules of Variables\n",
        "# case-sensitive: a and A are NOT the same thing\n",
        "# Variable name can NOT have space or mathematical operation. The convention is to use myName (camelcase)\n",
        "# can NOT start variable name with a number: 1number - this will create error msg, number1 is ok\n",
        "# do not use python reserved keywords as variable name"
      ]
    },
    {
      "cell_type": "markdown",
      "id": "6b0a7356-bc7f-4f07-a5e5-95563ef08edf",
      "metadata": {
        "id": "6b0a7356-bc7f-4f07-a5e5-95563ef08edf"
      },
      "source": [
        "### Scope of Variables\n",
        "The scope of a variable determines its visibility in different parts of the code. Python has **local** and **global** scopes.\n"
      ]
    },
    {
      "cell_type": "code",
      "execution_count": 27,
      "id": "31a5ffff-0e9b-4cb1-8cb2-2fbb484ac9e2",
      "metadata": {
        "id": "31a5ffff-0e9b-4cb1-8cb2-2fbb484ac9e2",
        "colab": {
          "base_uri": "https://localhost:8080/"
        },
        "outputId": "465b0960-4df2-4e57-cc2d-4f5474cd7dd8"
      },
      "outputs": [
        {
          "output_type": "stream",
          "name": "stdout",
          "text": [
            "global variable\n",
            "local variable\n"
          ]
        }
      ],
      "source": [
        "# Example: Variable Scope\n",
        "def my_function():\n",
        "    loc_var = \"local variable\"\n",
        "    print(loc_var)\n",
        "\n",
        "glo_var = \"global variable\"\n",
        "\n",
        "print(glo_var)\n",
        "my_function()\n",
        "# print(loc_var) # This line caused the NameError"
      ]
    },
    {
      "cell_type": "markdown",
      "id": "dc4ef954-77c6-4dac-9590-83501fbead75",
      "metadata": {
        "id": "dc4ef954-77c6-4dac-9590-83501fbead75"
      },
      "source": [
        "## 3. Conditional Statements (if, else, elif)\n",
        "Conditional statements allow for decision-making in the code based on certain conditions.\n"
      ]
    },
    {
      "cell_type": "code",
      "execution_count": 28,
      "id": "3f4654df-5223-4c23-bb74-d5b632df5c4b",
      "metadata": {
        "id": "3f4654df-5223-4c23-bb74-d5b632df5c4b",
        "colab": {
          "base_uri": "https://localhost:8080/"
        },
        "outputId": "a408d767-2229-4ceb-a8e1-3d9f5ba0f979"
      },
      "outputs": [
        {
          "output_type": "stream",
          "name": "stdout",
          "text": [
            "You are a teenager.\n"
          ]
        }
      ],
      "source": [
        "# Example: Conditional Statements\n",
        "age = 20\n",
        "\n",
        "if age >= 21:\n",
        "    print(\"You are an adult.\")\n",
        "elif age >= 13:\n",
        "    print(\"You are a teenager.\")\n",
        "else:\n",
        "    print(\"You are a child.\")\n"
      ]
    },
    {
      "cell_type": "markdown",
      "id": "02b65ee5-6eeb-40cc-ac0f-49703c9e25f4",
      "metadata": {
        "id": "02b65ee5-6eeb-40cc-ac0f-49703c9e25f4"
      },
      "source": [
        "## 4. Loops (for, while)\n",
        "Loops are used to execute a block of code repeatedly as long as a condition is met.\n",
        "\n",
        "### 4.1 For Loop\n",
        "The `for` loop is used to iterate over a sequence (list, tuple, dictionary, set, or string).\n"
      ]
    },
    {
      "cell_type": "code",
      "execution_count": 29,
      "id": "1aa9f7a4-3603-4cde-98f0-1a9bec3f33bb",
      "metadata": {
        "id": "1aa9f7a4-3603-4cde-98f0-1a9bec3f33bb",
        "colab": {
          "base_uri": "https://localhost:8080/"
        },
        "outputId": "017168d9-516e-45e4-bc6c-2f133088c47a"
      },
      "outputs": [
        {
          "output_type": "stream",
          "name": "stdout",
          "text": [
            "1\n",
            "2\n",
            "3\n",
            "4\n",
            "5\n"
          ]
        }
      ],
      "source": [
        "# Example: For Loop\n",
        "numbers = [1, 2, 3, 4, 5] # This is known as LIST in Python\n",
        "for num in numbers:\n",
        "    print(num)\n"
      ]
    },
    {
      "cell_type": "markdown",
      "id": "6fa4387c-1a6e-410f-a36a-afb9f4a4122c",
      "metadata": {
        "id": "6fa4387c-1a6e-410f-a36a-afb9f4a4122c"
      },
      "source": [
        "### 4.2 While Loop\n",
        "The `while` loop executes a set of statements as long as a condition is true.\n"
      ]
    },
    {
      "cell_type": "code",
      "execution_count": 30,
      "id": "2c7d9a11-a78b-4594-b0ca-4b2f8c799f57",
      "metadata": {
        "id": "2c7d9a11-a78b-4594-b0ca-4b2f8c799f57",
        "colab": {
          "base_uri": "https://localhost:8080/"
        },
        "outputId": "21a380bf-2027-4fe8-aef5-4e218c4d6154"
      },
      "outputs": [
        {
          "output_type": "stream",
          "name": "stdout",
          "text": [
            "Count: 0\n",
            "Count: 1\n",
            "Count: 2\n",
            "Count: 3\n",
            "Count: 4\n",
            "Count: 5\n",
            "Count: 6\n",
            "Count: 7\n",
            "Count: 8\n",
            "Count: 9\n"
          ]
        }
      ],
      "source": [
        "# Example: While Loop\n",
        "count = 0\n",
        "while count < 10:\n",
        "    print(\"Count:\", count)\n",
        "    count += 1 #Why is this important?\n"
      ]
    },
    {
      "cell_type": "markdown",
      "id": "87750afc-64f0-4024-81c7-5a167f38551a",
      "metadata": {
        "id": "87750afc-64f0-4024-81c7-5a167f38551a"
      },
      "source": [
        "## 5. Problem Solving with Control Structures\n",
        "\n",
        "Control structures such as loops and conditionals allow us to control the flow of our programs. By using these constructs effectively, we can solve a variety of problems, including managing data, performing repetitive tasks, and making decisions based on conditions.\n"
      ]
    },
    {
      "cell_type": "markdown",
      "id": "07a34761-5d9b-4536-a12f-dc5d82c497ac",
      "metadata": {
        "id": "07a34761-5d9b-4536-a12f-dc5d82c497ac"
      },
      "source": [
        "### Example: Solving the \"Sum of Multiples\" Problem\n",
        "We will iterate through the numbers from 1 to 50 and check if each number is divisible by 4 or 7. If it meets the condition, we will add it to the sum. If a number is divisible by both 4 and 7, we add it twice.\n"
      ]
    },
    {
      "cell_type": "code",
      "execution_count": 31,
      "id": "b5a734f2-2090-4870-910d-c4f6429bb997",
      "metadata": {
        "id": "b5a734f2-2090-4870-910d-c4f6429bb997",
        "colab": {
          "base_uri": "https://localhost:8080/"
        },
        "outputId": "a89481fc-4a8a-4153-ab9c-7bcef528f90d"
      },
      "outputs": [
        {
          "output_type": "stream",
          "name": "stdout",
          "text": [
            "Sum of multiples of 4 and 7 (with double addition for common multiples): 3285\n"
          ]
        }
      ],
      "source": [
        "# Solution: Sum of Multiples of 2 and 7\n",
        "total_sum = 0\n",
        "\n",
        "for i in range(1, 101): # What are the parameters in range()?\n",
        "    if i % 2 == 0 or i % 7 == 0: #What does % mean?\n",
        "        total_sum += i\n",
        "    if i % 2 == 0 and i % 7 == 0:\n",
        "        total_sum += i  # Add twice for numbers divisible by both 2 and 7\n",
        "\n",
        "print(\"Sum of multiples of 4 and 7 (with double addition for common multiples):\", total_sum)\n"
      ]
    },
    {
      "cell_type": "markdown",
      "id": "933f808c-db35-40ce-8936-5353287f69d6",
      "metadata": {
        "id": "933f808c-db35-40ce-8936-5353287f69d6"
      },
      "source": [
        "### Example 2: Finding Maximum and Minimum in a List\n",
        "You can use loops and conditionals to find the maximum and minimum values in a list without using built-in functions.\n"
      ]
    },
    {
      "cell_type": "code",
      "execution_count": 32,
      "id": "86d2d3aa-c0aa-412a-be6d-63bcbcecb0f9",
      "metadata": {
        "id": "86d2d3aa-c0aa-412a-be6d-63bcbcecb0f9",
        "colab": {
          "base_uri": "https://localhost:8080/"
        },
        "outputId": "a5f74be6-fb06-4623-c0e9-e474aa481fd7"
      },
      "outputs": [
        {
          "output_type": "stream",
          "name": "stdout",
          "text": [
            "Maximum: 189\n",
            "Minimum: 2\n"
          ]
        }
      ],
      "source": [
        "# Solution: Find Max and Min\n",
        "numbers = [10, 3, 85, 23, 189, 2, 38]\n",
        "\n",
        "# Initialize max and min with the first element\n",
        "max_num = numbers[0]\n",
        "min_num = numbers[0]\n",
        "\n",
        "for num in numbers:\n",
        "    if num > max_num:\n",
        "        max_num = num\n",
        "    if num < min_num:\n",
        "        min_num = num\n",
        "\n",
        "print(\"Maximum:\", max_num)\n",
        "print(\"Minimum:\", min_num)\n",
        "# Can you use another method?"
      ]
    },
    {
      "cell_type": "markdown",
      "id": "39411604-67d8-44fd-92c0-c79fb568f2fd",
      "metadata": {
        "id": "39411604-67d8-44fd-92c0-c79fb568f2fd"
      },
      "source": [
        "## 6. Implementing Loops and Conditionals for Data Flow Management\n",
        "\n",
        "In data processing, we often need to manage the flow of data based on certain conditions. Loops help us iterate over data structures, while conditionals allow us to make decisions and apply logic.\n",
        "\n",
        "### Example 3: Filtering Even and Odd Numbers from a List\n",
        "We can use loops and conditionals to separate even and odd numbers from a list.\n"
      ]
    },
    {
      "cell_type": "code",
      "execution_count": 33,
      "id": "d0e85a8d-9f0e-4d47-8970-6c7c508b36fc",
      "metadata": {
        "id": "d0e85a8d-9f0e-4d47-8970-6c7c508b36fc",
        "colab": {
          "base_uri": "https://localhost:8080/"
        },
        "outputId": "f1dd2b60-9d89-4f09-a7bc-9ef9e097760d"
      },
      "outputs": [
        {
          "output_type": "stream",
          "name": "stdout",
          "text": [
            "Even numbers: [10, 30, 60, 90]\n",
            "Odd numbers: [25, 45, 75]\n"
          ]
        }
      ],
      "source": [
        "# Solution: Filter Even and Odd Numbers\n",
        "numbers = [10, 25, 30, 45, 60, 75, 90]\n",
        "\n",
        "even_numbers = []\n",
        "odd_numbers = []\n",
        "\n",
        "for num in numbers:\n",
        "    if num % 2 == 0:\n",
        "        even_numbers.append(num)\n",
        "    else:\n",
        "        odd_numbers.append(num)\n",
        "\n",
        "print(\"Even numbers:\", even_numbers)\n",
        "print(\"Odd numbers:\", odd_numbers)\n"
      ]
    },
    {
      "cell_type": "markdown",
      "id": "31c31eeb-2283-4a6b-aafd-0f4230f1086b",
      "metadata": {
        "id": "31c31eeb-2283-4a6b-aafd-0f4230f1086b"
      },
      "source": [
        "### Example 4: Summing Positive and Negative Numbers\n",
        "Use a loop and conditionals to calculate the sum of positive and negative numbers in a list.\n"
      ]
    },
    {
      "cell_type": "code",
      "execution_count": 34,
      "id": "f8f23715-0388-45c6-85c9-9f86a32f07ce",
      "metadata": {
        "id": "f8f23715-0388-45c6-85c9-9f86a32f07ce",
        "colab": {
          "base_uri": "https://localhost:8080/"
        },
        "outputId": "a8d8d087-3629-4184-9783-cff9e02223d5"
      },
      "outputs": [
        {
          "output_type": "stream",
          "name": "stdout",
          "text": [
            "Sum of positive numbers: 190\n",
            "Sum of negative numbers: -145\n"
          ]
        }
      ],
      "source": [
        "# Solution: Sum Positive and Negative Numbers\n",
        "numbers = [10, -25, 30, -45, 60, -75, 90]\n",
        "\n",
        "positive_sum = 0\n",
        "negative_sum = 0\n",
        "\n",
        "for num in numbers:\n",
        "    if num > 0:\n",
        "        positive_sum += num\n",
        "    else:\n",
        "        negative_sum += num\n",
        "\n",
        "print(\"Sum of positive numbers:\", positive_sum)\n",
        "print(\"Sum of negative numbers:\", negative_sum)\n"
      ]
    },
    {
      "cell_type": "markdown",
      "id": "eaf41f44-7aed-43cd-9484-57bc0035e32a",
      "metadata": {
        "id": "eaf41f44-7aed-43cd-9484-57bc0035e32a"
      },
      "source": [
        "## 7. Functions in Python\n",
        "\n",
        "Functions allow you to encapsulate code into reusable blocks. This section covers the basics of defining functions, using arguments, and more advanced concepts like return statements and variable scope within functions.\n",
        "\n",
        "### 7.1 Function Basics\n",
        "\n",
        "#### 7.1.1 Defining Functions\n",
        "In Python, a function is defined using the `def` keyword followed by the function name, parameters, and a colon.\n"
      ]
    },
    {
      "cell_type": "code",
      "execution_count": 35,
      "id": "372b0f48-6d03-42cc-926c-75922f398fda",
      "metadata": {
        "id": "372b0f48-6d03-42cc-926c-75922f398fda",
        "colab": {
          "base_uri": "https://localhost:8080/"
        },
        "outputId": "e078f77d-5f99-41e5-87a7-70d58e8bf948"
      },
      "outputs": [
        {
          "output_type": "stream",
          "name": "stdout",
          "text": [
            "Hello, welcome to Python functions!\n"
          ]
        }
      ],
      "source": [
        "# Example: Defining a basic function\n",
        "def greet():\n",
        "    print(\"Hello, welcome to Python functions!\")\n",
        "\n",
        "# Calling the function\n",
        "greet()\n"
      ]
    },
    {
      "cell_type": "markdown",
      "id": "6e5bb132-e89d-4f68-9167-9b05b0ef1fe9",
      "metadata": {
        "id": "6e5bb132-e89d-4f68-9167-9b05b0ef1fe9"
      },
      "source": [
        "### 7.2 Understanding Arguments\n",
        "Functions can take input in the form of arguments. Arguments can be indexed (positional) or keyword-based.\n",
        "\n",
        "#### Indexed (Positional) Arguments\n",
        "These are the standard arguments passed to a function in the order they are defined.\n"
      ]
    },
    {
      "cell_type": "code",
      "execution_count": 36,
      "id": "a22edd0b-92cb-4a46-bcb7-961a21627a58",
      "metadata": {
        "id": "a22edd0b-92cb-4a46-bcb7-961a21627a58",
        "colab": {
          "base_uri": "https://localhost:8080/"
        },
        "outputId": "56640c3a-b547-4952-ed01-04499436a7f5"
      },
      "outputs": [
        {
          "output_type": "stream",
          "name": "stdout",
          "text": [
            "Sum: 15\n"
          ]
        }
      ],
      "source": [
        "# Example: Function with positional arguments\n",
        "def add_numbers(a, b):\n",
        "    return a + b\n",
        "\n",
        "result = add_numbers(5, 10)\n",
        "print(\"Sum:\", result)\n"
      ]
    },
    {
      "cell_type": "markdown",
      "id": "19fb3961-6fa5-43bf-8f2c-f1d11bb4443a",
      "metadata": {
        "id": "19fb3961-6fa5-43bf-8f2c-f1d11bb4443a"
      },
      "source": [
        "#### Keyword Arguments\n",
        "Keyword arguments allow you to specify argument names explicitly when calling the function, regardless of their position.\n"
      ]
    },
    {
      "cell_type": "code",
      "execution_count": 37,
      "id": "da964850-c586-476b-a506-2b0d0dd04558",
      "metadata": {
        "id": "da964850-c586-476b-a506-2b0d0dd04558",
        "colab": {
          "base_uri": "https://localhost:8080/"
        },
        "outputId": "401498fa-991a-4fa5-f914-49ee55748fb0"
      },
      "outputs": [
        {
          "output_type": "stream",
          "name": "stdout",
          "text": [
            "My name is Alice and I am 30 years old.\n"
          ]
        }
      ],
      "source": [
        "# Example: Function with keyword arguments\n",
        "def introduce(name, age):\n",
        "    print(f\"My name is {name} and I am {age} years old.\")\n",
        "\n",
        "introduce(age=30, name=\"Alice\")\n"
      ]
    },
    {
      "cell_type": "markdown",
      "id": "b2fcb667-9c88-4cd7-ba20-1a66e86a162e",
      "metadata": {
        "id": "b2fcb667-9c88-4cd7-ba20-1a66e86a162e"
      },
      "source": [
        "### 7.3 Optional vs. Required Arguments\n",
        "Optional arguments have default values, so you can omit them when calling the function, while required arguments must always be provided.\n"
      ]
    },
    {
      "cell_type": "code",
      "execution_count": 38,
      "id": "89a0b63e-7a27-419b-8d1a-fd1400f1875b",
      "metadata": {
        "id": "89a0b63e-7a27-419b-8d1a-fd1400f1875b",
        "colab": {
          "base_uri": "https://localhost:8080/"
        },
        "outputId": "81b364e4-396e-4172-92b7-38aa085e02fe"
      },
      "outputs": [
        {
          "output_type": "stream",
          "name": "stdout",
          "text": [
            "I have a cat named Buddy.\n",
            "I have a dog named Max.\n"
          ]
        }
      ],
      "source": [
        "# Example: Function with optional and required arguments\n",
        "def describe_pet(pet_name, animal_type=\"dog\"):\n",
        "    print(f\"I have a {animal_type} named {pet_name}.\")\n",
        "\n",
        "# Calling with both arguments\n",
        "describe_pet(\"Buddy\", \"cat\")\n",
        "\n",
        "# Calling with only the required argument\n",
        "describe_pet(\"Max\")\n"
      ]
    },
    {
      "cell_type": "markdown",
      "id": "f35eb908-d96e-4092-85bc-917d6818e010",
      "metadata": {
        "id": "f35eb908-d96e-4092-85bc-917d6818e010"
      },
      "source": [
        "## 7.4 Advanced Function Concepts\n",
        "\n",
        "#### Return Statements\n",
        "The `return` statement is used to send a result back from the function to the caller.\n"
      ]
    },
    {
      "cell_type": "code",
      "execution_count": 39,
      "id": "8325845f-7259-4d30-99a3-dd3f8960e7ac",
      "metadata": {
        "id": "8325845f-7259-4d30-99a3-dd3f8960e7ac",
        "colab": {
          "base_uri": "https://localhost:8080/"
        },
        "outputId": "de89be34-943c-4753-8ee3-5b065c47eab8"
      },
      "outputs": [
        {
          "output_type": "stream",
          "name": "stdout",
          "text": [
            "Square of 4 is: 16\n"
          ]
        }
      ],
      "source": [
        "# Example: Using return statements\n",
        "def square(num):\n",
        "    return num * num\n",
        "\n",
        "result = square(4)\n",
        "print(\"Square of 4 is:\", result)\n"
      ]
    },
    {
      "cell_type": "markdown",
      "id": "8d3ff39a-f324-414c-98ef-83608a1d76d9",
      "metadata": {
        "id": "8d3ff39a-f324-414c-98ef-83608a1d76d9"
      },
      "source": [
        "#### Scope within Functions\n",
        "Variables defined inside a function are local to that function, meaning they can't be accessed outside the function. However, you can use global variables inside functions if necessary.\n"
      ]
    },
    {
      "cell_type": "code",
      "execution_count": 40,
      "id": "fb0a0360-e385-42fd-b4c7-235ed5cadbbe",
      "metadata": {
        "id": "fb0a0360-e385-42fd-b4c7-235ed5cadbbe",
        "colab": {
          "base_uri": "https://localhost:8080/"
        },
        "outputId": "63be376f-3534-4b5f-adac-6550861c76a8"
      },
      "outputs": [
        {
          "output_type": "stream",
          "name": "stdout",
          "text": [
            "I am local\n"
          ]
        }
      ],
      "source": [
        "# Example: Variable scope in functions\n",
        "def my_function():\n",
        "    local_var = \"I am local\"\n",
        "    print(local_var)\n",
        "\n",
        "my_function()\n",
        "\n",
        "# Trying to access local_var outside the function will result in an error:\n",
        "# print(local_var)  # This will raise a NameError\n"
      ]
    },
    {
      "cell_type": "markdown",
      "id": "4da56090-1936-4b81-a350-96fb70445dda",
      "metadata": {
        "id": "4da56090-1936-4b81-a350-96fb70445dda"
      },
      "source": [
        "#### Global vs Local Variables\n",
        "You can use the `global` keyword to modify global variables inside a function.\n"
      ]
    },
    {
      "cell_type": "code",
      "execution_count": 41,
      "id": "c1494cc9-9d28-422a-9c0b-e7ff49aede36",
      "metadata": {
        "id": "c1494cc9-9d28-422a-9c0b-e7ff49aede36",
        "colab": {
          "base_uri": "https://localhost:8080/"
        },
        "outputId": "4d741f3b-a0e2-4d06-cefd-61378795cf1b"
      },
      "outputs": [
        {
          "output_type": "stream",
          "name": "stdout",
          "text": [
            "I have been modified inside a function\n"
          ]
        }
      ],
      "source": [
        "# Example: Using global variables in functions\n",
        "global_var = \"I am global\"\n",
        "\n",
        "def modify_global():\n",
        "    global global_var\n",
        "    global_var = \"I have been modified inside a function\"\n",
        "\n",
        "modify_global()\n",
        "print(global_var)  # Output: I have been modified inside a function\n"
      ]
    },
    {
      "cell_type": "markdown",
      "id": "6081b4dd-b607-4829-bd7c-491f57aa55f5",
      "metadata": {
        "id": "6081b4dd-b607-4829-bd7c-491f57aa55f5"
      },
      "source": [
        "## 8. Python Data Science Ecosystem\n",
        "\n",
        "Python has a rich ecosystem of libraries that are essential for data analysis and manipulation. In this section, we will explore some key libraries used in the Python Data Science ecosystem and discuss how to select the right tools for different data analysis tasks.\n",
        "\n",
        "### 8.1 Key Python Libraries\n",
        "\n",
        "#### 8.1.1 NumPy\n",
        "NumPy (Numerical Python) is the fundamental package for numerical computing in Python. It provides support for arrays, matrices, and many mathematical functions to operate on these data structures.\n"
      ]
    },
    {
      "cell_type": "code",
      "execution_count": 42,
      "id": "870d7ea9-fe33-4873-9136-c07a64f4f6be",
      "metadata": {
        "id": "870d7ea9-fe33-4873-9136-c07a64f4f6be",
        "colab": {
          "base_uri": "https://localhost:8080/"
        },
        "outputId": "41b5048c-0a94-437b-b7ce-75d6182c3cfe"
      },
      "outputs": [
        {
          "output_type": "stream",
          "name": "stdout",
          "text": [
            "NumPy Array: [1 2 3 4 5]\n",
            "Squared Array: [ 1  4  9 16 25]\n"
          ]
        }
      ],
      "source": [
        "# Example: Working with NumPy arrays\n",
        "import numpy as np\n",
        "\n",
        "# Creating a NumPy array\n",
        "arr = np.array([1, 2, 3, 4, 5])\n",
        "print(\"NumPy Array:\", arr)\n",
        "\n",
        "# Performing mathematical operations\n",
        "arr_squared = np.square(arr)\n",
        "print(\"Squared Array:\", arr_squared)\n"
      ]
    },
    {
      "cell_type": "markdown",
      "id": "20132211-7cc0-4da5-97ce-45c0972f2ae3",
      "metadata": {
        "id": "20132211-7cc0-4da5-97ce-45c0972f2ae3"
      },
      "source": [
        "#### 8.1.2 Pandas\n",
        "Pandas is a powerful library for data manipulation and analysis. It provides data structures such as Series and DataFrame, which are designed to handle large datasets and allow easy manipulation.\n",
        "\n",
        "#### Example: Using Pandas for Data Manipulation\n"
      ]
    },
    {
      "cell_type": "code",
      "execution_count": 43,
      "id": "d5970f14-6334-44a0-88e6-5a4249968fc9",
      "metadata": {
        "id": "d5970f14-6334-44a0-88e6-5a4249968fc9",
        "colab": {
          "base_uri": "https://localhost:8080/"
        },
        "outputId": "590e61ba-89a6-4923-ef40-b9ed2fbc6b6f"
      },
      "outputs": [
        {
          "output_type": "stream",
          "name": "stdout",
          "text": [
            "Pandas DataFrame:\n",
            "      Name  Age  Salary\n",
            "0    Alice   25   50000\n",
            "1      Bob   30   60000\n",
            "2  Charlie   35   70000\n",
            "\n",
            "Average Salary: 60000.0\n"
          ]
        }
      ],
      "source": [
        "# Example: Working with Pandas DataFrames\n",
        "import pandas as pd\n",
        "\n",
        "# Creating a DataFrame\n",
        "data = {'Name': ['Alice', 'Bob', 'Charlie'],\n",
        "        'Age': [25, 30, 35],\n",
        "        'Salary': [50000, 60000, 70000]}\n",
        "df = pd.DataFrame(data)\n",
        "\n",
        "# Displaying the DataFrame\n",
        "print(\"Pandas DataFrame:\")\n",
        "print(df)\n",
        "\n",
        "# Basic operations\n",
        "print(\"\\nAverage Salary:\", df['Salary'].mean())\n"
      ]
    },
    {
      "cell_type": "markdown",
      "id": "5bc87512-90ba-41a7-b244-999c8e167b1a",
      "metadata": {
        "id": "5bc87512-90ba-41a7-b244-999c8e167b1a"
      },
      "source": [
        "### 8.1.3 Matplotlib\n",
        "Matplotlib is a comprehensive library for creating 2D static, animated, and interactive visualizations in Python. It is highly customizable and is often used to generate publication-quality plots.\n",
        "\n",
        "#### Example: Visualizing Data with Matplotlib\n"
      ]
    },
    {
      "cell_type": "code",
      "execution_count": 44,
      "id": "20f757c7-52a7-45b2-8b49-8d547756b32a",
      "metadata": {
        "id": "20f757c7-52a7-45b2-8b49-8d547756b32a",
        "colab": {
          "base_uri": "https://localhost:8080/",
          "height": 472
        },
        "outputId": "4525ecbe-4721-49ea-bc58-cf00377d38a0"
      },
      "outputs": [
        {
          "output_type": "display_data",
          "data": {
            "text/plain": [
              "<Figure size 640x480 with 1 Axes>"
            ],
            "image/png": "[encoded data removed]"
          },
          "metadata": {}
        }
      ],
      "source": [
        "# Example: Plotting a simple graph using Matplotlib\n",
        "import matplotlib.pyplot as plt\n",
        "\n",
        "# Data for plotting\n",
        "x = [1, 2, 3, 4, 5]\n",
        "y = [10, 15, 20, 25, 30]\n",
        "\n",
        "# Creating a line plot\n",
        "plt.plot(x, y, marker='o', linestyle='-', color='b')\n",
        "plt.title('Simple Line Plot')\n",
        "plt.xlabel('X-axis')\n",
        "plt.ylabel('Y-axis')\n",
        "plt.show()\n"
      ]
    },
    {
      "cell_type": "markdown",
      "id": "42e8dd42-7c54-4b87-9e1b-fb0fab7a4ba9",
      "metadata": {
        "id": "42e8dd42-7c54-4b87-9e1b-fb0fab7a4ba9"
      },
      "source": [
        "### 8.2 Assessing Tools for Data Analysis\n",
        "\n",
        "Selecting the right library for a data analysis task depends on the nature of the data and the type of analysis required. Here's a brief guide on when to use each of the libraries:\n",
        "\n",
        "- **NumPy**: Use NumPy when you need efficient mathematical operations on large arrays and matrices. It is particularly useful for numerical computations.\n",
        "  \n",
        "- **Pandas**: Use Pandas for data manipulation, cleaning, and preprocessing. It is excellent for working with structured data like CSV files, SQL databases, and Excel sheets. Pandas is ideal for tabular data and performing operations like filtering, grouping, and aggregation.\n",
        "  \n",
        "- **Matplotlib**: Use Matplotlib when you need to visualize data. It allows you to create various types of plots, including line plots, bar charts, histograms, and scatter plots. Matplotlib is a great choice for creating custom visualizations and exploring data trends.\n",
        "\n",
        "#### Example: Combining Libraries for a Data Analysis Task\n"
      ]
    },
    {
      "cell_type": "code",
      "execution_count": 45,
      "id": "6fe0ef47-5585-4e06-bc11-a2bf059e5ed7",
      "metadata": {
        "id": "6fe0ef47-5585-4e06-bc11-a2bf059e5ed7",
        "colab": {
          "base_uri": "https://localhost:8080/",
          "height": 472
        },
        "outputId": "674cf92c-a229-445e-f54e-f4e2ee036fb2"
      },
      "outputs": [
        {
          "output_type": "display_data",
          "data": {
            "text/plain": [
              "<Figure size 640x480 with 1 Axes>"
            ],
            "image/png": "[encoded data removed]"
          },
          "metadata": {}
        }
      ],
      "source": [
        "# Example: Using NumPy, Pandas, and Matplotlib together for data analysis\n",
        "import numpy as np\n",
        "import pandas as pd\n",
        "import matplotlib.pyplot as plt\n",
        "\n",
        "# Generating random data\n",
        "data = np.random.randn(1000)\n",
        "\n",
        "# Creating a Pandas DataFrame\n",
        "df = pd.DataFrame(data, columns=['Random Data'])\n",
        "\n",
        "# Plotting a histogram of the data\n",
        "df['Random Data'].plot(kind='hist', bins=30, color='c', edgecolor='black')\n",
        "plt.title('Histogram of Random Data')\n",
        "plt.xlabel('Value')\n",
        "plt.ylabel('Frequency')\n",
        "plt.show()\n"
      ]
    },
    {
      "cell_type": "markdown",
      "id": "27bd0102-5343-4bcd-a373-f4fa368bb600",
      "metadata": {
        "id": "27bd0102-5343-4bcd-a373-f4fa368bb600"
      },
      "source": [
        "## 9. Data Structures in Python\n",
        "\n",
        "Python provides several built-in data structures that are essential for organizing and manipulating data efficiently. In this section, we will explore core data structures like lists, tuples, sets, dictionaries, and strings, and learn how to choose the right data structure for different tasks.\n",
        "\n",
        "### 9.1 Core Data Structures\n",
        "\n",
        "#### 9.1.1 Lists\n",
        "Lists are ordered, mutable collections of items. They are one of the most versatile data structures in Python and can hold elements of different data types.\n"
      ]
    },
    {
      "cell_type": "code",
      "execution_count": 46,
      "id": "9074cd56-bfb6-4e66-8dd5-4d114627c444",
      "metadata": {
        "id": "9074cd56-bfb6-4e66-8dd5-4d114627c444",
        "colab": {
          "base_uri": "https://localhost:8080/"
        },
        "outputId": "7eddc227-c997-4a51-c800-00716f8ccd22"
      },
      "outputs": [
        {
          "output_type": "stream",
          "name": "stdout",
          "text": [
            "First element: 1\n",
            "First three elements: [1, 2, 3]\n",
            "Updated list: [1, 2, 3, 4, 5, 6]\n"
          ]
        }
      ],
      "source": [
        "# Example: Working with Lists\n",
        "my_list = [1, 2, 3, 4, 5]\n",
        "\n",
        "# Adding an element\n",
        "my_list.append(6)\n",
        "\n",
        "# Accessing elements\n",
        "print(\"First element:\", my_list[0])\n",
        "\n",
        "# Slicing\n",
        "print(\"First three elements:\", my_list[:3])\n",
        "\n",
        "# Output the entire list\n",
        "print(\"Updated list:\", my_list)\n"
      ]
    },
    {
      "cell_type": "markdown",
      "id": "87590da2-c7fd-4b07-8f3d-0841a597e03b",
      "metadata": {
        "id": "87590da2-c7fd-4b07-8f3d-0841a597e03b"
      },
      "source": [
        "#### 9.1.2 Tuples\n",
        "Tuples are ordered, immutable collections of items. Once a tuple is created, its values cannot be changed, making it ideal for data that should not be altered.\n",
        "\n"
      ]
    },
    {
      "cell_type": "code",
      "execution_count": 47,
      "id": "4c3e139f-3c40-4d2f-933a-9233b3f76bad",
      "metadata": {
        "id": "4c3e139f-3c40-4d2f-933a-9233b3f76bad",
        "colab": {
          "base_uri": "https://localhost:8080/"
        },
        "outputId": "a4af3b38-1c95-47f5-ade0-85f4e56dba98"
      },
      "outputs": [
        {
          "output_type": "stream",
          "name": "stdout",
          "text": [
            "First element of the tuple: 10\n",
            "First two elements: (10, 20)\n"
          ]
        }
      ],
      "source": [
        "# Example: Working with Tuples\n",
        "my_tuple = (10, 20, 30)\n",
        "\n",
        "# Accessing elements\n",
        "print(\"First element of the tuple:\", my_tuple[0])\n",
        "\n",
        "# Slicing\n",
        "print(\"First two elements:\", my_tuple[:2])\n",
        "\n",
        "# Tuples are immutable, so the following line would raise an error:\n",
        "# my_tuple[1] = 25  # Uncommenting this line will cause an error\n"
      ]
    },
    {
      "cell_type": "markdown",
      "id": "85fb6cf1-9738-4b9c-b2c0-7c64a9186fe8",
      "metadata": {
        "id": "85fb6cf1-9738-4b9c-b2c0-7c64a9186fe8"
      },
      "source": [
        "#### 9.1.3 Sets\n",
        "Sets are unordered collections of unique elements. They are useful when you want to eliminate duplicates or perform mathematical operations like union and intersection.\n"
      ]
    },
    {
      "cell_type": "code",
      "execution_count": 48,
      "id": "224f29f6-61df-4639-9195-6d309857402c",
      "metadata": {
        "id": "224f29f6-61df-4639-9195-6d309857402c",
        "colab": {
          "base_uri": "https://localhost:8080/"
        },
        "outputId": "1e99756e-4326-4ba7-80af-701a4488a402"
      },
      "outputs": [
        {
          "output_type": "stream",
          "name": "stdout",
          "text": [
            "Union of sets: {1, 2, 3, 4, 5, 6, 7}\n"
          ]
        }
      ],
      "source": [
        "# Example: Working with Sets\n",
        "my_set = {1, 2, 3, 3, 4, 5}  # Duplicates will be automatically removed\n",
        "\n",
        "# Adding an element\n",
        "my_set.add(6)\n",
        "\n",
        "# Performing a union with another set\n",
        "another_set = {4, 5, 6, 7}\n",
        "union_set = my_set.union(another_set)\n",
        "\n",
        "print(\"Union of sets:\", union_set)\n"
      ]
    },
    {
      "cell_type": "markdown",
      "id": "a4b2b359-3e0a-4eb3-b1c9-fdda57aa7e01",
      "metadata": {
        "id": "a4b2b359-3e0a-4eb3-b1c9-fdda57aa7e01"
      },
      "source": [
        "#### 9.1.4 Dictionaries\n",
        "Dictionaries store data as key-value pairs. They are unordered and mutable, making them ideal for cases where you need to associate data (keys) with specific values.\n"
      ]
    },
    {
      "cell_type": "code",
      "execution_count": 49,
      "id": "d453beab-4589-4ce8-9762-49eb44afeebc",
      "metadata": {
        "id": "d453beab-4589-4ce8-9762-49eb44afeebc",
        "colab": {
          "base_uri": "https://localhost:8080/"
        },
        "outputId": "d3e1bc20-a64c-4c25-e397-bc9cd1018997"
      },
      "outputs": [
        {
          "output_type": "stream",
          "name": "stdout",
          "text": [
            "Name: Alice\n",
            "Updated dictionary: {'name': 'Alice', 'age': 26, 'city': 'New York', 'job': 'Engineer'}\n"
          ]
        }
      ],
      "source": [
        "# Example: Working with Dictionaries\n",
        "my_dict = {'name': 'Alice', 'age': 25, 'city': 'New York'}\n",
        "\n",
        "# Accessing a value by key\n",
        "print(\"Name:\", my_dict['name'])\n",
        "\n",
        "# Adding a new key-value pair\n",
        "my_dict['job'] = 'Engineer'\n",
        "\n",
        "# Updating a value\n",
        "my_dict['age'] = 26\n",
        "\n",
        "# Output the updated dictionary\n",
        "print(\"Updated dictionary:\", my_dict)\n"
      ]
    },
    {
      "cell_type": "markdown",
      "id": "a7d0e591-b9af-4e45-bbd2-6ab824b5be80",
      "metadata": {
        "id": "a7d0e591-b9af-4e45-bbd2-6ab824b5be80"
      },
      "source": [
        "#### 9.1.5 Strings\n",
        "Strings are sequences of characters enclosed in single, double, or triple quotes. They are immutable, but you can perform various operations to manipulate strings.\n"
      ]
    },
    {
      "cell_type": "code",
      "execution_count": 50,
      "id": "73bdb9a9-59e9-44ad-9695-a468f42affde",
      "metadata": {
        "id": "73bdb9a9-59e9-44ad-9695-a468f42affde",
        "colab": {
          "base_uri": "https://localhost:8080/"
        },
        "outputId": "f8ccee0e-2371-43ea-89ba-9d53aef83590"
      },
      "outputs": [
        {
          "output_type": "stream",
          "name": "stdout",
          "text": [
            "First five characters: Hello\n",
            "Uppercase: HELLO, PYTHON!\n",
            "Replaced string: Hello, World!\n"
          ]
        }
      ],
      "source": [
        "# Example: Working with Strings\n",
        "my_string = \"Hello, Python!\"\n",
        "\n",
        "# String slicing\n",
        "print(\"First five characters:\", my_string[:5])\n",
        "\n",
        "# String methods\n",
        "print(\"Uppercase:\", my_string.upper())\n",
        "print(\"Replaced string:\", my_string.replace(\"Python\", \"World\"))\n"
      ]
    },
    {
      "cell_type": "markdown",
      "id": "a05d1e0f-cdac-46e2-a02b-c522dd381526",
      "metadata": {
        "id": "a05d1e0f-cdac-46e2-a02b-c522dd381526"
      },
      "source": [
        "### 9.2 Choosing the Right Data Structure\n",
        "Choosing the right data structure depends on the task at hand:\n",
        "\n",
        "- **Lists**: Use when you need an ordered collection that can be changed.\n",
        "- **Tuples**: Use when you need an ordered, unchangeable collection.\n",
        "- **Sets**: Use when you need a collection of unique elements and set operations like union and intersection.\n",
        "- **Dictionaries**: Use when you need to store key-value pairs and access values by keys.\n",
        "- **Strings**: Use for handling text and characters."
      ]
    },
    {
      "cell_type": "markdown",
      "id": "a7d6a6c1-1d19-4b6b-a92d-fb9751887559",
      "metadata": {
        "id": "a7d6a6c1-1d19-4b6b-a92d-fb9751887559"
      },
      "source": [
        "### 9.3 Data Manipulation Techniques\n",
        "\n",
        "#### 9.3.1 Sorting Data\n",
        "Sorting is an important operation when dealing with lists and other data structures."
      ]
    },
    {
      "cell_type": "code",
      "execution_count": 51,
      "id": "59948514-da77-4348-b774-bd788e168d30",
      "metadata": {
        "id": "59948514-da77-4348-b774-bd788e168d30",
        "colab": {
          "base_uri": "https://localhost:8080/"
        },
        "outputId": "43b0186d-ab62-4cc1-8e0d-ac2ec957f86a"
      },
      "outputs": [
        {
          "output_type": "stream",
          "name": "stdout",
          "text": [
            "Sorted list: [1, 2, 5, 5, 6, 9]\n"
          ]
        }
      ],
      "source": [
        "# Example: Sorting a list\n",
        "numbers = [5, 2, 9, 1, 5, 6]\n",
        "sorted_numbers = sorted(numbers)\n",
        "\n",
        "print(\"Sorted list:\", sorted_numbers)\n"
      ]
    },
    {
      "cell_type": "markdown",
      "id": "fea5230c-d8ef-4caf-b02e-6f58f4a9c177",
      "metadata": {
        "id": "fea5230c-d8ef-4caf-b02e-6f58f4a9c177"
      },
      "source": [
        "### 9.3.2 Filtering Data\n",
        "Filtering is useful when you need to extract elements from a list that meet certain criteria.\n"
      ]
    },
    {
      "cell_type": "code",
      "execution_count": 52,
      "id": "10868c0c-ad2e-45f3-9e4a-0e4736a434c0",
      "metadata": {
        "id": "10868c0c-ad2e-45f3-9e4a-0e4736a434c0",
        "colab": {
          "base_uri": "https://localhost:8080/"
        },
        "outputId": "6be56815-c0af-444f-a600-91625c9ad8f3"
      },
      "outputs": [
        {
          "output_type": "stream",
          "name": "stdout",
          "text": [
            "Filtered numbers: [25, 30]\n"
          ]
        }
      ],
      "source": [
        "# Example: Filtering a list\n",
        "numbers = [10, 15, 20, 25, 30]\n",
        "\n",
        "# Filter numbers greater than 20\n",
        "filtered_numbers = [num for num in numbers if num > 20]\n",
        "\n",
        "print(\"Filtered numbers:\", filtered_numbers)\n"
      ]
    },
    {
      "cell_type": "markdown",
      "id": "8db0fd64-6161-4221-a5d8-cd31280bdb7e",
      "metadata": {
        "id": "8db0fd64-6161-4221-a5d8-cd31280bdb7e"
      },
      "source": [
        "### 9.3.3 Organizing Data\n",
        "You can organize data using built-in structures like lists of dictionaries or dictionaries of lists.\n"
      ]
    },
    {
      "cell_type": "code",
      "execution_count": 53,
      "id": "7c0e3740-8e94-4e78-8922-2132966bda8a",
      "metadata": {
        "id": "7c0e3740-8e94-4e78-8922-2132966bda8a",
        "colab": {
          "base_uri": "https://localhost:8080/"
        },
        "outputId": "fd21ff8c-9d66-4fa7-f878-2261480fe66f"
      },
      "outputs": [
        {
          "output_type": "stream",
          "name": "stdout",
          "text": [
            "First employee's name: Alice\n"
          ]
        }
      ],
      "source": [
        "# Example: Organizing data in a list of dictionaries\n",
        "employees = [\n",
        "    {'name': 'Alice', 'age': 25, 'job': 'Engineer'},\n",
        "    {'name': 'Bob', 'age': 30, 'job': 'Manager'},\n",
        "    {'name': 'Charlie', 'age': 35, 'job': 'Analyst'}\n",
        "]\n",
        "\n",
        "# Accessing data for a specific employee\n",
        "print(\"First employee's name:\", employees[0]['name'])\n"
      ]
    },
    {
      "cell_type": "markdown",
      "id": "5523827a-3d49-483b-993e-4d43abd8a7ee",
      "metadata": {
        "id": "5523827a-3d49-483b-993e-4d43abd8a7ee"
      },
      "source": [
        "## 10. Python Scripting Best Practices\n",
        "\n",
        "Writing clean, readable, and well-documented code is a key practice in Python programming. In this section, we will cover two important aspects of Python scripting best practices: PEP 8 coding standards and PEP 257 for writing effective docstrings.\n",
        "\n",
        "### 10.1 PEP 8 and Coding Standards\n",
        "\n",
        "PEP 8 is the official style guide for Python code. It provides recommendations to improve the readability and consistency of Python code.\n",
        "\n",
        "#### 10.1.1 Key PEP 8 Guidelines\n",
        "\n",
        "- **Indentation**: Use 4 spaces per indentation level.\n",
        "- **Maximum Line Length**: Limit all lines to a maximum of 79 characters.\n",
        "- **Blank Lines**: Use blank lines to separate functions and classes, and within functions to separate logical sections.\n",
        "- **Imports**: Place all imports at the top of the file. Group them as follows:\n",
        "  1. Standard library imports\n",
        "  2. Related third-party imports\n",
        "  3. Local application-specific imports\n",
        "- **Comments**: Use comments sparingly and place them on their own line. For block comments, use a `#` and one space.\n",
        "\n",
        "#### Example: Code Following PEP 8\n"
      ]
    },
    {
      "cell_type": "code",
      "execution_count": 54,
      "id": "3d255628-6aaa-4dbe-9ccd-a26d01e7e650",
      "metadata": {
        "id": "3d255628-6aaa-4dbe-9ccd-a26d01e7e650",
        "colab": {
          "base_uri": "https://localhost:8080/"
        },
        "outputId": "be4d4048-071f-49db-95c7-823cd3908a37"
      },
      "outputs": [
        {
          "output_type": "stream",
          "name": "stdout",
          "text": [
            "Area of the circle: 78.53981633974483\n"
          ]
        }
      ],
      "source": [
        "# Example: Following PEP 8 guidelines\n",
        "import math  # Standard library import\n",
        "import numpy as np  # Third-party import\n",
        "\n",
        "# Function with proper indentation and spacing\n",
        "def calculate_area(radius):\n",
        "    \"\"\"Calculate the area of a circle given its radius.\"\"\"\n",
        "    if radius <= 0:\n",
        "        return 0\n",
        "    else:\n",
        "        return math.pi * radius ** 2\n",
        "\n",
        "# Calculate the area of a circle\n",
        "area = calculate_area(5)\n",
        "print(\"Area of the circle:\", area)\n"
      ]
    },
    {
      "cell_type": "markdown",
      "id": "f1e72eb7-6abb-4c95-99d5-1e8708dece0b",
      "metadata": {
        "id": "f1e72eb7-6abb-4c95-99d5-1e8708dece0b"
      },
      "source": [
        "#### 10.1.2 Common PEP 8 Violations\n",
        "\n",
        "Some common violations of PEP 8 guidelines include:\n",
        "\n",
        "- Using tabs instead of spaces for indentation.\n",
        "- Writing long lines that exceed 79 characters.\n",
        "- Not adding spaces around operators.\n",
        "\n",
        "#### Example: Code with PEP 8 Violations\n"
      ]
    },
    {
      "cell_type": "code",
      "execution_count": 56,
      "id": "1f21126c-c44a-4d59-8610-0de8c1cb8c56",
      "metadata": {
        "id": "1f21126c-c44a-4d59-8610-0de8c1cb8c56",
        "colab": {
          "base_uri": "https://localhost:8080/"
        },
        "outputId": "8adf4465-a819-4f5c-f31d-dae3c72aa69b"
      },
      "outputs": [
        {
          "output_type": "stream",
          "name": "stdout",
          "text": [
            "78.53981633974483\n"
          ]
        }
      ],
      "source": [
        "# Example: Code with PEP 8 violations (now corrected)\n",
        "import math\n",
        "\n",
        "def area(radius):\n",
        "    if radius <= 0:\n",
        "        return 0\n",
        "    else:\n",
        "        return math.pi * radius ** 2\n",
        "\n",
        "print(area(5))"
      ]
    },
    {
      "cell_type": "markdown",
      "id": "b8732726-742d-4754-a984-fdf7562400e4",
      "metadata": {
        "id": "b8732726-742d-4754-a984-fdf7562400e4"
      },
      "source": [
        "### 10.2 Docstrings and Code Documentation\n",
        "\n",
        "PEP 257 provides guidelines for writing docstrings, which are used to document code, especially functions, classes, and modules. Good documentation is essential for maintainability and readability.\n",
        "\n",
        "#### 10.2.1 Writing Docstrings\n",
        "\n",
        "- **Single-line Docstrings**: For simple functions or methods, use a single-line docstring.\n",
        "- **Multi-line Docstrings**: For more complex functions or classes, use multi-line docstrings that explain the functionality, arguments, and return values.\n",
        "\n",
        "#### Example: Single-line Docstring\n"
      ]
    },
    {
      "cell_type": "code",
      "execution_count": 57,
      "id": "a306f744-b852-4728-a03c-97ccc2b82f2e",
      "metadata": {
        "id": "a306f744-b852-4728-a03c-97ccc2b82f2e",
        "colab": {
          "base_uri": "https://localhost:8080/"
        },
        "outputId": "a2b24a16-be15-40dd-ef8e-b194f4af521d"
      },
      "outputs": [
        {
          "output_type": "stream",
          "name": "stdout",
          "text": [
            "Result: 15\n"
          ]
        }
      ],
      "source": [
        "# Example: Single-line docstring\n",
        "def add(a, b):\n",
        "    \"\"\"Add two numbers and return the result.\"\"\"\n",
        "    return a + b\n",
        "\n",
        "result = add(5, 10)\n",
        "print(\"Result:\", result)\n"
      ]
    },
    {
      "cell_type": "markdown",
      "id": "be03b84e-aa18-4f14-aa4d-552c6f2bc5ec",
      "metadata": {
        "id": "be03b84e-aa18-4f14-aa4d-552c6f2bc5ec"
      },
      "source": [
        "#### Example: Multi-line Docstring\n"
      ]
    },
    {
      "cell_type": "code",
      "execution_count": 58,
      "id": "86c41f3e-1a66-4560-ad8e-3017e9d4694b",
      "metadata": {
        "id": "86c41f3e-1a66-4560-ad8e-3017e9d4694b",
        "colab": {
          "base_uri": "https://localhost:8080/"
        },
        "outputId": "f8ce39f3-99a0-4721-80b2-e83b7858b49b"
      },
      "outputs": [
        {
          "output_type": "stream",
          "name": "stdout",
          "text": [
            "Area: 78.53981633974483, Circumference: 31.41592653589793\n"
          ]
        }
      ],
      "source": [
        "# Example: Multi-line docstring\n",
        "def compute_circle_properties(radius):\n",
        "    \"\"\"\n",
        "    Compute the area and circumference of a circle.\n",
        "\n",
        "    Parameters:\n",
        "    radius (float): The radius of the circle.\n",
        "\n",
        "    Returns:\n",
        "    tuple: A tuple containing the area and circumference of the circle.\n",
        "    \"\"\"\n",
        "    area = math.pi * radius ** 2\n",
        "    circumference = 2 * math.pi * radius\n",
        "    return area, circumference\n",
        "\n",
        "# Call the function and print results\n",
        "circle_area, circle_circumference = compute_circle_properties(5)\n",
        "print(f\"Area: {circle_area}, Circumference: {circle_circumference}\")\n"
      ]
    },
    {
      "cell_type": "markdown",
      "id": "d56c4cfd-e96a-4396-99e8-c21aac1208f7",
      "metadata": {
        "id": "d56c4cfd-e96a-4396-99e8-c21aac1208f7"
      },
      "source": [
        "#### 10.2.2 Best Practices for Writing Docstrings\n",
        "\n",
        "- Always start the docstring with a summary of the function's purpose.\n",
        "- Use multi-line docstrings for functions that have multiple parameters or complex functionality.\n",
        "- Describe parameters, their types, and expected return values.\n",
        "- For modules and classes, include a description of the overall purpose and usage.\n",
        "\n",
        "Following PEP 8 and PEP 257 helps ensure that your code is not only functional but also clean, maintainable, and easy to understand.\n"
      ]
    },
    {
      "cell_type": "markdown",
      "id": "e994353d-1470-4469-9082-42875d4484ef",
      "metadata": {
        "id": "e994353d-1470-4469-9082-42875d4484ef"
      },
      "source": [
        "## 11. Module Management and Exception Handling\n",
        "\n",
        "### 11.1 Module Imports and Package Management\n",
        "\n",
        "Modules and packages are essential for organizing Python code and reusing functionality across projects. In this section, we will explore different types of module imports and package management using PIP.\n",
        "\n",
        "#### 11.1.1 Module Imports\n",
        "\n",
        "Python allows you to import code from other files (modules) to use in your current script. There are several types of imports, depending on what you need to use in your program."
      ]
    },
    {
      "cell_type": "markdown",
      "id": "d7ac5250-7003-4c41-8265-50481c73a16e",
      "metadata": {
        "id": "d7ac5250-7003-4c41-8265-50481c73a16e"
      },
      "source": [
        "#### Types of Imports\n",
        "\n",
        "#### Standard Imports\n",
        "This is the simplest form of import where you import the entire module."
      ]
    },
    {
      "cell_type": "code",
      "execution_count": 59,
      "id": "545aa1cc-8f81-45b9-aa7e-d5468ce23840",
      "metadata": {
        "id": "545aa1cc-8f81-45b9-aa7e-d5468ce23840",
        "colab": {
          "base_uri": "https://localhost:8080/"
        },
        "outputId": "e9609e23-348b-4167-af3a-76496712adb2"
      },
      "outputs": [
        {
          "output_type": "stream",
          "name": "stdout",
          "text": [
            "Square root of 16 is: 4.0\n"
          ]
        }
      ],
      "source": [
        "# Example: Standard Import\n",
        "import math\n",
        "\n",
        "# Using the math module\n",
        "result = math.sqrt(16)\n",
        "print(\"Square root of 16 is:\", result)\n"
      ]
    },
    {
      "cell_type": "markdown",
      "id": "60e76c29-2dd8-49c0-905a-6e16951795c4",
      "metadata": {
        "id": "60e76c29-2dd8-49c0-905a-6e16951795c4"
      },
      "source": [
        "#### Selective Imports\n",
        "Instead of importing the entire module, you can selectively import specific functions, classes, or variables from a module.\n"
      ]
    },
    {
      "cell_type": "code",
      "execution_count": 60,
      "id": "bded9bdc-7f6d-4090-aebb-1f04031fed1e",
      "metadata": {
        "id": "bded9bdc-7f6d-4090-aebb-1f04031fed1e",
        "colab": {
          "base_uri": "https://localhost:8080/"
        },
        "outputId": "d4dd1700-9255-4974-8a0c-3bec25207243"
      },
      "outputs": [
        {
          "output_type": "stream",
          "name": "stdout",
          "text": [
            "Value of pi: 3.141592653589793\n",
            "Square root of 25 is: 5.0\n"
          ]
        }
      ],
      "source": [
        "# Example: Selective Import\n",
        "from math import pi, sqrt\n",
        "\n",
        "# Using the selected functions and constants\n",
        "print(\"Value of pi:\", pi)\n",
        "print(\"Square root of 25 is:\", sqrt(25))\n"
      ]
    },
    {
      "cell_type": "markdown",
      "id": "3abae6d7-c336-42c3-ba4a-7df45ab27c07",
      "metadata": {
        "id": "3abae6d7-c336-42c3-ba4a-7df45ab27c07"
      },
      "source": [
        "#### Aliasing\n",
        "You can also import modules or functions with an alias (a short name) to make your code cleaner and shorter.\n"
      ]
    },
    {
      "cell_type": "code",
      "execution_count": 61,
      "id": "5417a261-3fa3-4cd8-a801-6b448f354b18",
      "metadata": {
        "id": "5417a261-3fa3-4cd8-a801-6b448f354b18",
        "colab": {
          "base_uri": "https://localhost:8080/"
        },
        "outputId": "53d3ec83-b191-4dbc-83c8-3e6a2889ba72"
      },
      "outputs": [
        {
          "output_type": "stream",
          "name": "stdout",
          "text": [
            "NumPy Array: [1 2 3 4]\n"
          ]
        }
      ],
      "source": [
        "# Example: Import with Aliasing\n",
        "import numpy as np\n",
        "\n",
        "# Creating a NumPy array using alias\n",
        "array = np.array([1, 2, 3, 4])\n",
        "print(\"NumPy Array:\", array)\n"
      ]
    },
    {
      "cell_type": "markdown",
      "id": "71142b88-5ee1-43b2-bed8-4cbf0961ecf3",
      "metadata": {
        "id": "71142b88-5ee1-43b2-bed8-4cbf0961ecf3"
      },
      "source": [
        "### 11.2 Importing from Different Sources\n",
        "\n",
        "#### 11.2.1 Python Standard Library\n",
        "The Python Standard Library comes with many built-in modules that can be imported directly without needing to install anything.\n",
        "\n",
        "Example: `math`, `datetime`, `os`, `random`\n"
      ]
    },
    {
      "cell_type": "code",
      "execution_count": 62,
      "id": "f47b0806-7e18-4549-bb45-63f6bc882fe1",
      "metadata": {
        "id": "f47b0806-7e18-4549-bb45-63f6bc882fe1",
        "colab": {
          "base_uri": "https://localhost:8080/"
        },
        "outputId": "ba9eaf62-2765-4805-abe4-c7e932117b33"
      },
      "outputs": [
        {
          "output_type": "stream",
          "name": "stdout",
          "text": [
            "Random number between 1 and 100: 48\n"
          ]
        }
      ],
      "source": [
        "# Example: Importing from Python Standard Library\n",
        "import random\n",
        "\n",
        "# Generating a random number\n",
        "random_number = random.randint(1, 100)\n",
        "print(\"Random number between 1 and 100:\", random_number)\n"
      ]
    },
    {
      "cell_type": "markdown",
      "id": "5ed14f11-7870-46b5-b9d1-14e211b9f304",
      "metadata": {
        "id": "5ed14f11-7870-46b5-b9d1-14e211b9f304"
      },
      "source": [
        "#### 11.2.2 External Sources (Third-Party Libraries)\n",
        "Third-party libraries are not included in the Python Standard Library. You need to install them using a package manager like `pip`.\n",
        "\n",
        "Example: `numpy`, `pandas`, `requests`\n"
      ]
    },
    {
      "cell_type": "code",
      "execution_count": 63,
      "id": "b03c6889-fb65-43cd-acf1-7bd542ee38b3",
      "metadata": {
        "id": "b03c6889-fb65-43cd-acf1-7bd542ee38b3",
        "colab": {
          "base_uri": "https://localhost:8080/"
        },
        "outputId": "3ce6c2c4-e996-4f4a-cd79-28834eba67e7"
      },
      "outputs": [
        {
          "output_type": "stream",
          "name": "stdout",
          "text": [
            "Numpy array: [1 2 3]\n"
          ]
        }
      ],
      "source": [
        "# Example: Importing from an External Source (numpy)\n",
        "import numpy as np\n",
        "\n",
        "# Creating an array\n",
        "my_array = np.array([1, 2, 3])\n",
        "print(\"Numpy array:\", my_array)\n"
      ]
    },
    {
      "cell_type": "markdown",
      "id": "fd2313ac-39f5-4ccf-89bd-631683662bf7",
      "metadata": {
        "id": "fd2313ac-39f5-4ccf-89bd-631683662bf7"
      },
      "source": [
        "#### 11.2.3 Local Modules\n",
        "You can create your own Python modules and import them into other Python scripts. This is useful when you want to reuse functions across multiple scripts in your project.\n"
      ]
    },
    {
      "cell_type": "code",
      "execution_count": 64,
      "id": "d510fa5f-1826-40a1-adb3-89460c3fa93d",
      "metadata": {
        "id": "d510fa5f-1826-40a1-adb3-89460c3fa93d",
        "colab": {
          "base_uri": "https://localhost:8080/",
          "height": 383
        },
        "outputId": "9f7d5bf7-a6df-4e4d-f395-90a356c6a962"
      },
      "outputs": [
        {
          "output_type": "error",
          "ename": "ModuleNotFoundError",
          "evalue": "No module named 'my_module'",
          "traceback": [
            "\u001b[0;31m---------------------------------------------------------------------------\u001b[0m",
            "\u001b[0;31mModuleNotFoundError\u001b[0m                       Traceback (most recent call last)",
            "\u001b[0;32m/tmp/ipython-input-2454714765.py\u001b[0m in \u001b[0;36m<cell line: 0>\u001b[0;34m()\u001b[0m\n\u001b[1;32m      3\u001b[0m \u001b[0;34m\u001b[0m\u001b[0m\n\u001b[1;32m      4\u001b[0m \u001b[0;31m# Import the local module\u001b[0m\u001b[0;34m\u001b[0m\u001b[0;34m\u001b[0m\u001b[0m\n\u001b[0;32m----> 5\u001b[0;31m \u001b[0;32mfrom\u001b[0m \u001b[0mmy_module\u001b[0m \u001b[0;32mimport\u001b[0m \u001b[0mgreet\u001b[0m\u001b[0;34m\u001b[0m\u001b[0;34m\u001b[0m\u001b[0m\n\u001b[0m\u001b[1;32m      6\u001b[0m \u001b[0;34m\u001b[0m\u001b[0m\n\u001b[1;32m      7\u001b[0m \u001b[0;31m# Call the greet function from the local module\u001b[0m\u001b[0;34m\u001b[0m\u001b[0;34m\u001b[0m\u001b[0m\n",
            "\u001b[0;31mModuleNotFoundError\u001b[0m: No module named 'my_module'",
            "",
            "\u001b[0;31m---------------------------------------------------------------------------\u001b[0;32m\nNOTE: If your import is failing due to a missing package, you can\nmanually install dependencies using either !pip or !apt.\n\nTo view examples of installing some common dependencies, click the\n\"Open Examples\" button below.\n\u001b[0;31m---------------------------------------------------------------------------\u001b[0m\n"
          ],
          "errorDetails": {
            "actions": [
              {
                "action": "open_url",
                "actionText": "Open Examples",
                "url": "/notebooks/snippets/importing_libraries.ipynb"
              }
            ]
          }
        }
      ],
      "source": [
        "# Example: Importing from a Local Module\n",
        "# Assuming you have a module named `my_module.py` with a function called `greet`\n",
        "\n",
        "# Import the local module\n",
        "from my_module import greet\n",
        "\n",
        "# Call the greet function from the local module\n",
        "greet(\"Alice\")\n"
      ]
    },
    {
      "cell_type": "code",
      "metadata": {
        "colab": {
          "base_uri": "https://localhost:8080/"
        },
        "id": "e62dc66c",
        "outputId": "8c4d6c45-38cb-485c-8c13-c73cc9be56b1"
      },
      "source": [
        "# Create a dummy local module file for demonstration\n",
        "%%writefile my_module.py\n",
        "def greet(name):\n",
        "    print(f\"Hello, {name} from my_module!\")\n",
        "\n",
        "def farewell(name):\n",
        "    print(f\"Goodbye, {name} from my_module!\")"
      ],
      "id": "e62dc66c",
      "execution_count": 65,
      "outputs": [
        {
          "output_type": "stream",
          "name": "stdout",
          "text": [
            "Writing my_module.py\n"
          ]
        }
      ]
    },
    {
      "cell_type": "code",
      "metadata": {
        "colab": {
          "base_uri": "https://localhost:8080/"
        },
        "id": "2485de5f",
        "outputId": "78ec5a38-a9ff-462c-e7dc-ed83926700ca"
      },
      "source": [
        "# Example: Importing from a Local Module\n",
        "# Assuming you have a module named `my_module.py` with a function called `greet`\n",
        "\n",
        "# Import the local module\n",
        "from my_module import greet\n",
        "\n",
        "# Call the greet function from the local module\n",
        "greet(\"Alice\")"
      ],
      "id": "2485de5f",
      "execution_count": 66,
      "outputs": [
        {
          "output_type": "stream",
          "name": "stdout",
          "text": [
            "Hello, Alice from my_module!\n"
          ]
        }
      ]
    },
    {
      "cell_type": "markdown",
      "id": "cd1dcb79-b2ce-4a7b-aece-9c86bbd9300d",
      "metadata": {
        "id": "cd1dcb79-b2ce-4a7b-aece-9c86bbd9300d"
      },
      "source": [
        "### 11.3 Package Management with PIP\n",
        "\n",
        "PIP (Python Package Installer) is a tool that allows you to install, update, and remove Python packages (external libraries). It is the most common way to manage packages in Python.\n",
        "\n",
        "#### 11.3.1 Installing Packages\n",
        "You can install third-party packages using the `pip install` command.\n",
        "\n"
      ]
    },
    {
      "cell_type": "code",
      "execution_count": 67,
      "id": "11c2d797-72a7-4da3-a65d-4189e5028a7f",
      "metadata": {
        "id": "11c2d797-72a7-4da3-a65d-4189e5028a7f",
        "colab": {
          "base_uri": "https://localhost:8080/"
        },
        "outputId": "330862ba-74d9-485b-c068-f01d77ed7ddb"
      },
      "outputs": [
        {
          "output_type": "stream",
          "name": "stdout",
          "text": [
            "Requirement already satisfied: numpy in /usr/local/lib/python3.12/dist-packages (2.0.2)\n"
          ]
        }
      ],
      "source": [
        "# Installing a package (e.g., numpy)\n",
        "!pip install numpy\n"
      ]
    },
    {
      "cell_type": "markdown",
      "id": "cb357111-a4c0-451a-aeaa-916c0dbf3946",
      "metadata": {
        "id": "cb357111-a4c0-451a-aeaa-916c0dbf3946"
      },
      "source": [
        "#### 11.3.2 Updating Packages\n",
        "To update an installed package to its latest version, use the `pip install --upgrade` command.\n"
      ]
    },
    {
      "cell_type": "markdown",
      "id": "00e0e9a4-15e5-488d-9da8-1dd12bbc926b",
      "metadata": {
        "id": "00e0e9a4-15e5-488d-9da8-1dd12bbc926b"
      },
      "source": [
        "#### 11.3.3 Removing Packages\n",
        "If you no longer need a package, you can uninstall it using the `pip uninstall` command.\n"
      ]
    },
    {
      "cell_type": "code",
      "execution_count": 68,
      "id": "a5c48297-6b95-4134-95ab-d1a66220d145",
      "metadata": {
        "id": "a5c48297-6b95-4134-95ab-d1a66220d145",
        "colab": {
          "base_uri": "https://localhost:8080/"
        },
        "outputId": "5bfebb02-4a0c-4c87-8ad7-c31587915252"
      },
      "outputs": [
        {
          "output_type": "stream",
          "name": "stdout",
          "text": [
            "Found existing installation: numpy 2.0.2\n",
            "Uninstalling numpy-2.0.2:\n",
            "  Would remove:\n",
            "    /usr/local/bin/f2py\n",
            "    /usr/local/bin/numpy-config\n",
            "    /usr/local/lib/python3.12/dist-packages/numpy-2.0.2.dist-info/*\n",
            "    /usr/local/lib/python3.12/dist-packages/numpy.libs/libgfortran-040039e1-0352e75f.so.5.0.0\n",
            "    /usr/local/lib/python3.12/dist-packages/numpy.libs/libquadmath-96973f99-934c22de.so.0.0.0\n",
            "    /usr/local/lib/python3.12/dist-packages/numpy.libs/libscipy_openblas64_-99b71e71.so\n",
            "    /usr/local/lib/python3.12/dist-packages/numpy/*\n",
            "Proceed (Y/n)? \u001b[31mERROR: Operation cancelled by user\u001b[0m\u001b[31m\n",
            "\u001b[0m"
          ]
        }
      ],
      "source": [
        "# Uninstalling a package (e.g., numpy)\n",
        "!pip uninstall numpy\n"
      ]
    },
    {
      "cell_type": "code",
      "execution_count": 71,
      "id": "230fd803-d88b-4c22-b7eb-a1505f5562bb",
      "metadata": {
        "id": "230fd803-d88b-4c22-b7eb-a1505f5562bb",
        "colab": {
          "base_uri": "https://localhost:8080/"
        },
        "outputId": "9fc3ba89-b2d5-4ac7-dbbe-e3ad775684b7"
      },
      "outputs": [
        {
          "output_type": "stream",
          "name": "stdout",
          "text": [
            "Package                                  Version\n",
            "---------------------------------------- -------------------\n",
            "absl-py                                  1.4.0\n",
            "absolufy-imports                         0.3.1\n",
            "accelerate                               1.10.1\n",
            "aiofiles                                 24.1.0\n",
            "aiohappyeyeballs                         2.6.1\n",
            "aiohttp                                  3.12.15\n",
            "aiosignal                                1.4.0\n",
            "alabaster                                1.0.0\n",
            "albucore                                 0.0.24\n",
            "albumentations                           2.0.8\n",
            "ale-py                                   0.11.2\n",
            "alembic                                  1.16.5\n",
            "altair                                   5.5.0\n",
            "annotated-types                          0.7.0\n",
            "antlr4-python3-runtime                   4.9.3\n",
            "anyio                                    4.11.0\n",
            "anywidget                                0.9.18\n",
            "argon2-cffi                              25.1.0\n",
            "argon2-cffi-bindings                     25.1.0\n",
            "array_record                             0.8.1\n",
            "arrow                                    1.3.0\n",
            "arviz                                    0.22.0\n",
            "astropy                                  7.1.0\n",
            "astropy-iers-data                        0.2025.9.29.0.35.48\n",
            "astunparse                               1.6.3\n",
            "atpublic                                 5.1\n",
            "attrs                                    25.3.0\n",
            "audioread                                3.0.1\n",
            "Authlib                                  1.6.4\n",
            "autograd                                 1.8.0\n",
            "babel                                    2.17.0\n",
            "backcall                                 0.2.0\n",
            "beartype                                 0.21.0\n",
            "beautifulsoup4                           4.13.5\n",
            "betterproto                              2.0.0b6\n",
            "bigframes                                2.23.0\n",
            "bigquery-magics                          0.10.3\n",
            "bleach                                   6.2.0\n",
            "blinker                                  1.9.0\n",
            "blis                                     1.3.0\n",
            "blobfile                                 3.1.0\n",
            "blosc2                                   3.9.1\n",
            "bokeh                                    3.7.3\n",
            "Bottleneck                               1.4.2\n",
            "bqplot                                   0.12.45\n",
            "branca                                   0.8.1\n",
            "Brotli                                   1.1.0\n",
            "build                                    1.3.0\n",
            "CacheControl                             0.14.3\n",
            "cachetools                               5.5.2\n",
            "catalogue                                2.0.10\n",
            "certifi                                  2025.8.3\n",
            "cffi                                     2.0.0\n",
            "chardet                                  5.2.0\n",
            "charset-normalizer                       3.4.3\n",
            "chex                                     0.1.90\n",
            "clarabel                                 0.11.1\n",
            "click                                    8.3.0\n",
            "cloudpathlib                             0.22.0\n",
            "cloudpickle                              3.1.1\n",
            "cmake                                    3.31.6\n",
            "cmdstanpy                                1.2.5\n",
            "colorcet                                 3.1.0\n",
            "colorlover                               0.3.0\n",
            "colour                                   0.1.5\n",
            "community                                1.0.0b1\n",
            "confection                               0.1.5\n",
            "cons                                     0.4.7\n",
            "contourpy                                1.3.3\n",
            "cramjam                                  2.11.0\n",
            "cryptography                             43.0.3\n",
            "cuda-python                              12.6.2.post1\n",
            "cudf-cu12                                25.6.0\n",
            "cudf-polars-cu12                         25.6.0\n",
            "cufflinks                                0.17.3\n",
            "cuml-cu12                                25.6.0\n",
            "cupy-cuda12x                             13.3.0\n",
            "curl_cffi                                0.13.0\n",
            "cuvs-cu12                                25.6.1\n",
            "cvxopt                                   1.3.2\n",
            "cvxpy                                    1.6.7\n",
            "cycler                                   0.12.1\n",
            "cyipopt                                  1.5.0\n",
            "cymem                                    2.0.11\n",
            "Cython                                   3.0.12\n",
            "dask                                     2025.5.0\n",
            "dask-cuda                                25.6.0\n",
            "dask-cudf-cu12                           25.6.0\n",
            "dataproc-spark-connect                   0.8.3\n",
            "datasets                                 4.0.0\n",
            "db-dtypes                                1.4.3\n",
            "dbus-python                              1.2.18\n",
            "debugpy                                  1.8.15\n",
            "decorator                                4.4.2\n",
            "defusedxml                               0.7.1\n",
            "diffusers                                0.35.1\n",
            "dill                                     0.3.8\n",
            "distributed                              2025.5.0\n",
            "distributed-ucxx-cu12                    0.44.0\n",
            "distro                                   1.9.0\n",
            "dlib                                     19.24.6\n",
            "dm-tree                                  0.1.9\n",
            "docstring_parser                         0.17.0\n",
            "docutils                                 0.21.2\n",
            "dopamine_rl                              4.1.2\n",
            "duckdb                                   1.3.2\n",
            "earthengine-api                          1.5.24\n",
            "easydict                                 1.13\n",
            "editdistance                             0.8.1\n",
            "eerepr                                   0.1.2\n",
            "einops                                   0.8.1\n",
            "en_core_web_sm                           3.8.0\n",
            "entrypoints                              0.4\n",
            "et_xmlfile                               2.0.0\n",
            "etils                                    1.13.0\n",
            "etuples                                  0.3.10\n",
            "Farama-Notifications                     0.0.4\n",
            "fastai                                   2.8.4\n",
            "fastapi                                  0.118.0\n",
            "fastcore                                 1.8.12\n",
            "fastdownload                             0.0.7\n",
            "fastjsonschema                           2.21.2\n",
            "fastprogress                             1.0.3\n",
            "fastrlock                                0.8.3\n",
            "fasttransform                            0.0.2\n",
            "ffmpy                                    0.6.1\n",
            "filelock                                 3.19.1\n",
            "firebase-admin                           6.9.0\n",
            "Flask                                    3.1.2\n",
            "flatbuffers                              25.9.23\n",
            "flax                                     0.10.6\n",
            "folium                                   0.20.0\n",
            "fonttools                                4.60.1\n",
            "fqdn                                     1.5.1\n",
            "frozendict                               2.4.6\n",
            "frozenlist                               1.7.0\n",
            "fsspec                                   2025.3.0\n",
            "future                                   1.0.0\n",
            "gast                                     0.6.0\n",
            "gcsfs                                    2025.3.0\n",
            "GDAL                                     3.8.4\n",
            "gdown                                    5.2.0\n",
            "geemap                                   0.35.3\n",
            "geocoder                                 1.38.1\n",
            "geographiclib                            2.1\n",
            "geopandas                                1.1.1\n",
            "geopy                                    2.4.1\n",
            "gin-config                               0.5.0\n",
            "gitdb                                    4.0.12\n",
            "GitPython                                3.1.45\n",
            "glob2                                    0.7\n",
            "google                                   2.0.3\n",
            "google-adk                               1.15.1\n",
            "google-ai-generativelanguage             0.6.15\n",
            "google-api-core                          2.25.1\n",
            "google-api-python-client                 2.183.0\n",
            "google-auth                              2.38.0\n",
            "google-auth-httplib2                     0.2.0\n",
            "google-auth-oauthlib                     1.2.2\n",
            "google-cloud-aiplatform                  1.118.0\n",
            "google-cloud-appengine-logging           1.6.2\n",
            "google-cloud-audit-log                   0.3.2\n",
            "google-cloud-bigquery                    3.38.0\n",
            "google-cloud-bigquery-connection         1.18.3\n",
            "google-cloud-bigquery-storage            2.33.1\n",
            "google-cloud-bigtable                    2.32.0\n",
            "google-cloud-core                        2.4.3\n",
            "google-cloud-dataproc                    5.22.0\n",
            "google-cloud-datastore                   2.21.0\n",
            "google-cloud-firestore                   2.21.0\n",
            "google-cloud-functions                   1.20.4\n",
            "google-cloud-language                    2.17.2\n",
            "google-cloud-logging                     3.12.1\n",
            "google-cloud-monitoring                  2.27.2\n",
            "google-cloud-resource-manager            1.14.2\n",
            "google-cloud-secret-manager              2.24.0\n",
            "google-cloud-spanner                     3.58.0\n",
            "google-cloud-speech                      2.33.0\n",
            "google-cloud-storage                     2.19.0\n",
            "google-cloud-trace                       1.16.2\n",
            "google-cloud-translate                   3.21.1\n",
            "google-colab                             1.0.0\n",
            "google-crc32c                            1.7.1\n",
            "google-genai                             1.39.1\n",
            "google-generativeai                      0.8.5\n",
            "google-pasta                             0.2.0\n",
            "google-resumable-media                   2.7.2\n",
            "googleapis-common-protos                 1.70.0\n",
            "googledrivedownloader                    1.1.0\n",
            "gradio                                   5.47.2\n",
            "gradio_client                            1.13.3\n",
            "graphviz                                 0.21\n",
            "greenlet                                 3.2.4\n",
            "groovy                                   0.1.2\n",
            "grpc-google-iam-v1                       0.14.2\n",
            "grpc-interceptor                         0.15.4\n",
            "grpcio                                   1.75.1\n",
            "grpcio-status                            1.71.2\n",
            "grpclib                                  0.4.8\n",
            "gspread                                  6.2.1\n",
            "gspread-dataframe                        4.0.0\n",
            "gym                                      0.25.2\n",
            "gym-notices                              0.1.0\n",
            "gymnasium                                1.2.1\n",
            "h11                                      0.16.0\n",
            "h2                                       4.3.0\n",
            "h5netcdf                                 1.6.4\n",
            "h5py                                     3.14.0\n",
            "hdbscan                                  0.8.40\n",
            "hf_transfer                              0.1.9\n",
            "hf-xet                                   1.1.10\n",
            "highspy                                  1.11.0\n",
            "holidays                                 0.81\n",
            "holoviews                                1.21.0\n",
            "hpack                                    4.1.0\n",
            "html5lib                                 1.1\n",
            "httpcore                                 1.0.9\n",
            "httpimport                               1.4.1\n",
            "httplib2                                 0.31.0\n",
            "httpx                                    0.28.1\n",
            "httpx-sse                                0.4.1\n",
            "huggingface-hub                          0.35.3\n",
            "humanize                                 4.13.0\n",
            "hyperframe                               6.1.0\n",
            "hyperopt                                 0.2.7\n",
            "ibis-framework                           9.5.0\n",
            "idna                                     3.10\n",
            "imageio                                  2.37.0\n",
            "imageio-ffmpeg                           0.6.0\n",
            "imagesize                                1.4.1\n",
            "imbalanced-learn                         0.14.0\n",
            "immutabledict                            4.2.1\n",
            "importlib_metadata                       8.7.0\n",
            "importlib_resources                      6.5.2\n",
            "imutils                                  0.5.4\n",
            "inflect                                  7.5.0\n",
            "iniconfig                                2.1.0\n",
            "intel-cmplr-lib-ur                       2025.2.1\n",
            "intel-openmp                             2025.2.1\n",
            "ipyevents                                2.0.4\n",
            "ipyfilechooser                           0.6.0\n",
            "ipykernel                                6.17.1\n",
            "ipyleaflet                               0.20.0\n",
            "ipyparallel                              8.8.0\n",
            "ipython                                  7.34.0\n",
            "ipython-genutils                         0.2.0\n",
            "ipython-sql                              0.5.0\n",
            "ipytree                                  0.2.2\n",
            "ipywidgets                               7.7.1\n",
            "isoduration                              20.11.0\n",
            "itsdangerous                             2.2.0\n",
            "jaraco.classes                           3.4.0\n",
            "jaraco.context                           6.0.1\n",
            "jaraco.functools                         4.3.0\n",
            "jax                                      0.5.3\n",
            "jax-cuda12-pjrt                          0.5.3\n",
            "jax-cuda12-plugin                        0.5.3\n",
            "jaxlib                                   0.5.3\n",
            "jeepney                                  0.9.0\n",
            "jieba                                    0.42.1\n",
            "Jinja2                                   3.1.6\n",
            "jiter                                    0.11.0\n",
            "joblib                                   1.5.2\n",
            "jsonpatch                                1.33\n",
            "jsonpickle                               4.1.1\n",
            "jsonpointer                              3.0.0\n",
            "jsonschema                               4.25.1\n",
            "jsonschema-specifications                2025.9.1\n",
            "jupyter_client                           7.4.9\n",
            "jupyter-console                          6.6.3\n",
            "jupyter_core                             5.8.1\n",
            "jupyter-events                           0.12.0\n",
            "jupyter_kernel_gateway                   2.5.2\n",
            "jupyter-leaflet                          0.20.0\n",
            "jupyter_server                           2.14.0\n",
            "jupyter_server_terminals                 0.5.3\n",
            "jupyterlab_pygments                      0.3.0\n",
            "jupyterlab_widgets                       3.0.15\n",
            "jupytext                                 1.17.3\n",
            "kaggle                                   1.7.4.5\n",
            "kagglehub                                0.3.13\n",
            "keras                                    3.10.0\n",
            "keras-hub                                0.21.1\n",
            "keras-nlp                                0.21.1\n",
            "keyring                                  25.6.0\n",
            "keyrings.google-artifactregistry-auth    1.1.2\n",
            "kiwisolver                               1.4.9\n",
            "langchain                                0.3.27\n",
            "langchain-core                           0.3.77\n",
            "langchain-text-splitters                 0.3.11\n",
            "langcodes                                3.5.0\n",
            "langsmith                                0.4.31\n",
            "language_data                            1.3.0\n",
            "lark                                     1.3.0\n",
            "launchpadlib                             1.10.16\n",
            "lazr.restfulclient                       0.14.4\n",
            "lazr.uri                                 1.0.6\n",
            "lazy_loader                              0.4\n",
            "libclang                                 18.1.1\n",
            "libcudf-cu12                             25.6.0\n",
            "libcugraph-cu12                          25.6.0\n",
            "libcuml-cu12                             25.6.0\n",
            "libcuvs-cu12                             25.6.1\n",
            "libkvikio-cu12                           25.6.0\n",
            "libpysal                                 4.13.0\n",
            "libraft-cu12                             25.6.0\n",
            "librmm-cu12                              25.6.0\n",
            "librosa                                  0.11.0\n",
            "libucx-cu12                              1.18.1\n",
            "libucxx-cu12                             0.44.0\n",
            "lightgbm                                 4.6.0\n",
            "linkify-it-py                            2.0.3\n",
            "llvmlite                                 0.43.0\n",
            "locket                                   1.0.0\n",
            "logical-unification                      0.4.6\n",
            "lxml                                     5.4.0\n",
            "Mako                                     1.3.10\n",
            "marisa-trie                              1.3.1\n",
            "Markdown                                 3.9\n",
            "markdown-it-py                           4.0.0\n",
            "MarkupSafe                               3.0.3\n",
            "matplotlib                               3.10.0\n",
            "matplotlib-inline                        0.1.7\n",
            "matplotlib-venn                          1.1.2\n",
            "mcp                                      1.15.0\n",
            "mdit-py-plugins                          0.5.0\n",
            "mdurl                                    0.1.2\n",
            "miniKanren                               1.0.5\n",
            "missingno                                0.5.2\n",
            "mistune                                  3.1.4\n",
            "mizani                                   0.13.5\n",
            "mkl                                      2025.2.0\n",
            "ml_dtypes                                0.5.3\n",
            "mlxtend                                  0.23.4\n",
            "more-itertools                           10.8.0\n",
            "moviepy                                  1.0.3\n",
            "mpmath                                   1.3.0\n",
            "msgpack                                  1.1.1\n",
            "multidict                                6.6.4\n",
            "multipledispatch                         1.0.0\n",
            "multiprocess                             0.70.16\n",
            "multitasking                             0.0.12\n",
            "murmurhash                               1.0.13\n",
            "music21                                  9.3.0\n",
            "namex                                    0.1.0\n",
            "narwhals                                 2.6.0\n",
            "natsort                                  8.4.0\n",
            "nbclassic                                1.3.3\n",
            "nbclient                                 0.10.2\n",
            "nbconvert                                7.16.6\n",
            "nbformat                                 5.10.4\n",
            "ndindex                                  1.10.0\n",
            "nest-asyncio                             1.6.0\n",
            "networkx                                 3.5\n",
            "nibabel                                  5.3.2\n",
            "nltk                                     3.9.1\n",
            "notebook                                 6.5.7\n",
            "notebook_shim                            0.2.4\n",
            "numba                                    0.60.0\n",
            "numba-cuda                               0.11.0\n",
            "numexpr                                  2.13.1\n",
            "numpy                                    2.0.2\n",
            "nvidia-cublas-cu12                       12.6.4.1\n",
            "nvidia-cuda-cupti-cu12                   12.6.80\n",
            "nvidia-cuda-nvcc-cu12                    12.5.82\n",
            "nvidia-cuda-nvrtc-cu12                   12.6.77\n",
            "nvidia-cuda-runtime-cu12                 12.6.77\n",
            "nvidia-cudnn-cu12                        9.10.2.21\n",
            "nvidia-cufft-cu12                        11.3.0.4\n",
            "nvidia-cufile-cu12                       1.11.1.6\n",
            "nvidia-curand-cu12                       10.3.7.77\n",
            "nvidia-cusolver-cu12                     11.7.1.2\n",
            "nvidia-cusparse-cu12                     12.5.4.2\n",
            "nvidia-cusparselt-cu12                   0.7.1\n",
            "nvidia-ml-py                             12.575.51\n",
            "nvidia-nccl-cu12                         2.27.3\n",
            "nvidia-nvjitlink-cu12                    12.6.85\n",
            "nvidia-nvtx-cu12                         12.6.77\n",
            "nvtx                                     0.2.13\n",
            "nx-cugraph-cu12                          25.6.0\n",
            "oauth2client                             4.1.3\n",
            "oauthlib                                 3.3.1\n",
            "omegaconf                                2.3.0\n",
            "openai                                   1.109.1\n",
            "opencv-contrib-python                    4.12.0.88\n",
            "opencv-python                            4.12.0.88\n",
            "opencv-python-headless                   4.12.0.88\n",
            "openpyxl                                 3.1.5\n",
            "opentelemetry-api                        1.37.0\n",
            "opentelemetry-exporter-gcp-logging       1.9.0a0\n",
            "opentelemetry-exporter-gcp-monitoring    1.9.0a0\n",
            "opentelemetry-exporter-gcp-trace         1.9.0\n",
            "opentelemetry-exporter-otlp-proto-common 1.37.0\n",
            "opentelemetry-exporter-otlp-proto-http   1.37.0\n",
            "opentelemetry-proto                      1.37.0\n",
            "opentelemetry-resourcedetector-gcp       1.9.0a0\n",
            "opentelemetry-sdk                        1.37.0\n",
            "opentelemetry-semantic-conventions       0.58b0\n",
            "opt_einsum                               3.4.0\n",
            "optax                                    0.2.6\n",
            "optree                                   0.17.0\n",
            "orbax-checkpoint                         0.11.24\n",
            "orjson                                   3.11.3\n",
            "osqp                                     1.0.4\n",
            "overrides                                7.7.0\n",
            "packaging                                25.0\n",
            "pandas                                   2.2.2\n",
            "pandas-datareader                        0.10.0\n",
            "pandas-gbq                               0.29.2\n",
            "pandas-stubs                             2.2.2.240909\n",
            "pandocfilters                            1.5.1\n",
            "panel                                    1.8.1\n",
            "param                                    2.2.1\n",
            "parso                                    0.8.5\n",
            "parsy                                    2.2\n",
            "partd                                    1.4.2\n",
            "patsy                                    1.0.1\n",
            "peewee                                   3.18.2\n",
            "peft                                     0.17.1\n",
            "pexpect                                  4.9.0\n",
            "pickleshare                              0.7.5\n",
            "pillow                                   11.3.0\n",
            "pip                                      24.1.2\n",
            "platformdirs                             4.4.0\n",
            "plotly                                   5.24.1\n",
            "plotnine                                 0.14.5\n",
            "pluggy                                   1.6.0\n",
            "plum-dispatch                            2.5.7\n",
            "ply                                      3.11\n",
            "polars                                   1.25.2\n",
            "pooch                                    1.8.2\n",
            "portpicker                               1.5.2\n",
            "preshed                                  3.0.10\n",
            "prettytable                              3.16.0\n",
            "proglog                                  0.1.12\n",
            "progressbar2                             4.5.0\n",
            "prometheus_client                        0.23.1\n",
            "promise                                  2.3\n",
            "prompt_toolkit                           3.0.52\n",
            "propcache                                0.3.2\n",
            "prophet                                  1.1.7\n",
            "proto-plus                               1.26.1\n",
            "protobuf                                 5.29.5\n",
            "psutil                                   5.9.5\n",
            "psycopg2                                 2.9.10\n",
            "psygnal                                  0.14.2\n",
            "ptyprocess                               0.7.0\n",
            "py-cpuinfo                               9.0.0\n",
            "py4j                                     0.10.9.7\n",
            "pyarrow                                  18.1.0\n",
            "pyasn1                                   0.6.1\n",
            "pyasn1_modules                           0.4.2\n",
            "pycairo                                  1.28.0\n",
            "pycocotools                              2.0.10\n",
            "pycparser                                2.23\n",
            "pycryptodomex                            3.23.0\n",
            "pydantic                                 2.11.9\n",
            "pydantic_core                            2.33.2\n",
            "pydantic-settings                        2.11.0\n",
            "pydata-google-auth                       1.9.1\n",
            "pydot                                    3.0.4\n",
            "pydotplus                                2.0.2\n",
            "PyDrive2                                 1.21.3\n",
            "pydub                                    0.25.1\n",
            "pyerfa                                   2.0.1.5\n",
            "pygame                                   2.6.1\n",
            "pygit2                                   1.18.2\n",
            "Pygments                                 2.19.2\n",
            "PyGObject                                3.42.0\n",
            "PyJWT                                    2.10.1\n",
            "pylibcudf-cu12                           25.6.0\n",
            "pylibcugraph-cu12                        25.6.0\n",
            "pylibraft-cu12                           25.6.0\n",
            "pymc                                     5.25.1\n",
            "pynndescent                              0.5.13\n",
            "pynvjitlink-cu12                         0.7.0\n",
            "pynvml                                   12.0.0\n",
            "pyogrio                                  0.11.1\n",
            "pyomo                                    6.9.4\n",
            "PyOpenGL                                 3.1.10\n",
            "pyOpenSSL                                24.2.1\n",
            "pyparsing                                3.2.5\n",
            "pyperclip                                1.11.0\n",
            "pyproj                                   3.7.2\n",
            "pyproject_hooks                          1.2.0\n",
            "pyshp                                    2.3.1\n",
            "PySocks                                  1.7.1\n",
            "pyspark                                  3.5.1\n",
            "pytensor                                 2.31.7\n",
            "pytest                                   8.4.2\n",
            "python-apt                               0.0.0\n",
            "python-box                               7.3.2\n",
            "python-dateutil                          2.9.0.post0\n",
            "python-dotenv                            1.1.1\n",
            "python-json-logger                       3.3.0\n",
            "python-louvain                           0.16\n",
            "python-multipart                         0.0.20\n",
            "python-slugify                           8.0.4\n",
            "python-snappy                            0.7.3\n",
            "python-utils                             3.9.1\n",
            "pytz                                     2025.2\n",
            "pyviz_comms                              3.0.6\n",
            "PyWavelets                               1.9.0\n",
            "PyYAML                                   6.0.3\n",
            "pyzmq                                    26.2.1\n",
            "raft-dask-cu12                           25.6.0\n",
            "rapids-dask-dependency                   25.6.0\n",
            "rapids-logger                            0.1.1\n",
            "ratelim                                  0.1.6\n",
            "referencing                              0.36.2\n",
            "regex                                    2024.11.6\n",
            "requests                                 2.32.4\n",
            "requests-oauthlib                        2.0.0\n",
            "requests-toolbelt                        1.0.0\n",
            "requirements-parser                      0.9.0\n",
            "rfc3339-validator                        0.1.4\n",
            "rfc3986-validator                        0.1.1\n",
            "rfc3987-syntax                           1.1.0\n",
            "rich                                     13.9.4\n",
            "rmm-cu12                                 25.6.0\n",
            "roman-numerals-py                        3.1.0\n",
            "rpds-py                                  0.27.1\n",
            "rpy2                                     3.5.17\n",
            "rsa                                      4.9.1\n",
            "ruff                                     0.13.2\n",
            "safehttpx                                0.1.6\n",
            "safetensors                              0.6.2\n",
            "scikit-image                             0.25.2\n",
            "scikit-learn                             1.6.1\n",
            "scipy                                    1.16.2\n",
            "scooby                                   0.10.2\n",
            "scs                                      3.2.8\n",
            "seaborn                                  0.13.2\n",
            "SecretStorage                            3.4.0\n",
            "semantic-version                         2.10.0\n",
            "Send2Trash                               1.8.3\n",
            "sentence-transformers                    5.1.1\n",
            "sentencepiece                            0.2.1\n",
            "sentry-sdk                               2.39.0\n",
            "setuptools                               75.2.0\n",
            "shap                                     0.48.0\n",
            "shapely                                  2.1.2\n",
            "shellingham                              1.5.4\n",
            "simple-parsing                           0.1.7\n",
            "simplejson                               3.20.2\n",
            "simsimd                                  6.5.3\n",
            "six                                      1.17.0\n",
            "sklearn-pandas                           2.2.0\n",
            "slicer                                   0.0.8\n",
            "smart_open                               7.3.1\n",
            "smmap                                    5.0.2\n",
            "sniffio                                  1.3.1\n",
            "snowballstemmer                          3.0.1\n",
            "sortedcontainers                         2.4.0\n",
            "soundfile                                0.13.1\n",
            "soupsieve                                2.8\n",
            "soxr                                     1.0.0\n",
            "spacy                                    3.8.7\n",
            "spacy-legacy                             3.0.12\n",
            "spacy-loggers                            1.0.5\n",
            "spanner-graph-notebook                   1.1.8\n",
            "Sphinx                                   8.2.3\n",
            "sphinxcontrib-applehelp                  2.0.0\n",
            "sphinxcontrib-devhelp                    2.0.0\n",
            "sphinxcontrib-htmlhelp                   2.1.0\n",
            "sphinxcontrib-jsmath                     1.0.1\n",
            "sphinxcontrib-qthelp                     2.0.0\n",
            "sphinxcontrib-serializinghtml            2.0.0\n",
            "SQLAlchemy                               2.0.43\n",
            "sqlalchemy-spanner                       1.16.0\n",
            "sqlglot                                  25.20.2\n",
            "sqlparse                                 0.5.3\n",
            "srsly                                    2.5.1\n",
            "sse-starlette                            3.0.2\n",
            "stanio                                   0.5.1\n",
            "starlette                                0.48.0\n",
            "statsmodels                              0.14.5\n",
            "stringzilla                              4.0.15\n",
            "stumpy                                   1.13.0\n",
            "sympy                                    1.13.3\n",
            "tables                                   3.10.2\n",
            "tabulate                                 0.9.0\n",
            "tbb                                      2022.2.0\n",
            "tblib                                    3.1.0\n",
            "tcmlib                                   1.4.0\n",
            "tenacity                                 8.5.0\n",
            "tensorboard                              2.19.0\n",
            "tensorboard-data-server                  0.7.2\n",
            "tensorflow                               2.19.0\n",
            "tensorflow-datasets                      4.9.9\n",
            "tensorflow_decision_forests              1.12.0\n",
            "tensorflow-hub                           0.16.1\n",
            "tensorflow-metadata                      1.17.2\n",
            "tensorflow-probability                   0.25.0\n",
            "tensorflow-text                          2.19.0\n",
            "tensorstore                              0.1.77\n",
            "termcolor                                3.1.0\n",
            "terminado                                0.18.1\n",
            "text-unidecode                           1.3\n",
            "textblob                                 0.19.0\n",
            "tf_keras                                 2.19.0\n",
            "tf-slim                                  1.1.0\n",
            "thinc                                    8.3.6\n",
            "threadpoolctl                            3.6.0\n",
            "tifffile                                 2025.9.30\n",
            "tiktoken                                 0.11.0\n",
            "timm                                     1.0.20\n",
            "tinycss2                                 1.4.0\n",
            "tokenizers                               0.22.1\n",
            "toml                                     0.10.2\n",
            "tomlkit                                  0.13.3\n",
            "toolz                                    0.12.1\n",
            "torch                                    2.8.0+cu126\n",
            "torchao                                  0.10.0\n",
            "torchaudio                               2.8.0+cu126\n",
            "torchdata                                0.11.0\n",
            "torchsummary                             1.5.1\n",
            "torchtune                                0.6.1\n",
            "torchvision                              0.23.0+cu126\n",
            "tornado                                  6.4.2\n",
            "tqdm                                     4.67.1\n",
            "traitlets                                5.7.1\n",
            "traittypes                               0.2.1\n",
            "transformers                             4.56.2\n",
            "treelite                                 4.4.1\n",
            "treescope                                0.1.10\n",
            "triton                                   3.4.0\n",
            "tsfresh                                  0.21.1\n",
            "tweepy                                   4.16.0\n",
            "typeguard                                4.4.4\n",
            "typer                                    0.19.2\n",
            "types-python-dateutil                    2.9.0.20250822\n",
            "types-pytz                               2025.2.0.20250809\n",
            "types-setuptools                         80.9.0.20250822\n",
            "typing_extensions                        4.15.0\n",
            "typing-inspection                        0.4.2\n",
            "tzdata                                   2025.2\n",
            "tzlocal                                  5.3.1\n",
            "uc-micro-py                              1.0.3\n",
            "ucx-py-cu12                              0.44.0\n",
            "ucxx-cu12                                0.44.0\n",
            "umap-learn                               0.5.9.post2\n",
            "umf                                      0.11.0\n",
            "uri-template                             1.3.0\n",
            "uritemplate                              4.2.0\n",
            "urllib3                                  2.5.0\n",
            "uvicorn                                  0.37.0\n",
            "vega-datasets                            0.9.0\n",
            "wadllib                                  1.3.6\n",
            "wandb                                    0.22.1\n",
            "wasabi                                   1.1.3\n",
            "watchdog                                 6.0.0\n",
            "wcwidth                                  0.2.14\n",
            "weasel                                   0.4.1\n",
            "webcolors                                24.11.1\n",
            "webencodings                             0.5.1\n",
            "websocket-client                         1.8.0\n",
            "websockets                               15.0.1\n",
            "Werkzeug                                 3.1.3\n",
            "wheel                                    0.45.1\n",
            "widgetsnbextension                       3.6.10\n",
            "wordcloud                                1.9.4\n",
            "wrapt                                    1.17.3\n",
            "wurlitzer                                3.1.1\n",
            "xarray                                   2025.9.1\n",
            "xarray-einstats                          0.9.1\n",
            "xgboost                                  3.0.5\n",
            "xlrd                                     2.0.2\n",
            "xxhash                                   3.5.0\n",
            "xyzservices                              2025.4.0\n",
            "yarl                                     1.20.1\n",
            "ydf                                      0.13.0\n",
            "yellowbrick                              1.5\n",
            "yfinance                                 0.2.66\n",
            "zict                                     3.0.0\n",
            "zipp                                     3.23.0\n",
            "zstandard                                0.25.0\n"
          ]
        }
      ],
      "source": [
        "# Checking installed packages\n",
        "!pip list"
      ]
    },
    {
      "cell_type": "code",
      "execution_count": 72,
      "id": "787f011b-7edb-4d91-a808-5376f20b16ab",
      "metadata": {
        "id": "787f011b-7edb-4d91-a808-5376f20b16ab",
        "colab": {
          "base_uri": "https://localhost:8080/"
        },
        "outputId": "b209e981-bc64-4922-b031-4e9f63e794f5"
      },
      "outputs": [
        {
          "output_type": "stream",
          "name": "stdout",
          "text": [
            "Package                                  Version\n",
            "---------------------------------------- -------------------\n",
            "absl-py                                  1.4.0\n",
            "absolufy-imports                         0.3.1\n",
            "accelerate                               1.10.1\n",
            "aiofiles                                 24.1.0\n",
            "aiohappyeyeballs                         2.6.1\n",
            "aiohttp                                  3.12.15\n",
            "aiosignal                                1.4.0\n",
            "alabaster                                1.0.0\n",
            "albucore                                 0.0.24\n",
            "albumentations                           2.0.8\n",
            "ale-py                                   0.11.2\n",
            "alembic                                  1.16.5\n",
            "altair                                   5.5.0\n",
            "annotated-types                          0.7.0\n",
            "antlr4-python3-runtime                   4.9.3\n",
            "anyio                                    4.11.0\n",
            "anywidget                                0.9.18\n",
            "argon2-cffi                              25.1.0\n",
            "argon2-cffi-bindings                     25.1.0\n",
            "array_record                             0.8.1\n",
            "arrow                                    1.3.0\n",
            "arviz                                    0.22.0\n",
            "astropy                                  7.1.0\n",
            "astropy-iers-data                        0.2025.9.29.0.35.48\n",
            "astunparse                               1.6.3\n",
            "atpublic                                 5.1\n",
            "attrs                                    25.3.0\n",
            "audioread                                3.0.1\n",
            "Authlib                                  1.6.4\n",
            "autograd                                 1.8.0\n",
            "babel                                    2.17.0\n",
            "backcall                                 0.2.0\n",
            "beartype                                 0.21.0\n",
            "beautifulsoup4                           4.13.5\n",
            "betterproto                              2.0.0b6\n",
            "bigframes                                2.23.0\n",
            "bigquery-magics                          0.10.3\n",
            "bleach                                   6.2.0\n",
            "blinker                                  1.9.0\n",
            "blis                                     1.3.0\n",
            "blobfile                                 3.1.0\n",
            "blosc2                                   3.9.1\n",
            "bokeh                                    3.7.3\n",
            "Bottleneck                               1.4.2\n",
            "bqplot                                   0.12.45\n",
            "branca                                   0.8.1\n",
            "Brotli                                   1.1.0\n",
            "build                                    1.3.0\n",
            "CacheControl                             0.14.3\n",
            "cachetools                               5.5.2\n",
            "catalogue                                2.0.10\n",
            "certifi                                  2025.8.3\n",
            "cffi                                     2.0.0\n",
            "chardet                                  5.2.0\n",
            "charset-normalizer                       3.4.3\n",
            "chex                                     0.1.90\n",
            "clarabel                                 0.11.1\n",
            "click                                    8.3.0\n",
            "cloudpathlib                             0.22.0\n",
            "cloudpickle                              3.1.1\n",
            "cmake                                    3.31.6\n",
            "cmdstanpy                                1.2.5\n",
            "colorcet                                 3.1.0\n",
            "colorlover                               0.3.0\n",
            "colour                                   0.1.5\n",
            "community                                1.0.0b1\n",
            "confection                               0.1.5\n",
            "cons                                     0.4.7\n",
            "contourpy                                1.3.3\n",
            "cramjam                                  2.11.0\n",
            "cryptography                             43.0.3\n",
            "cuda-python                              12.6.2.post1\n",
            "cudf-cu12                                25.6.0\n",
            "cudf-polars-cu12                         25.6.0\n",
            "cufflinks                                0.17.3\n",
            "cuml-cu12                                25.6.0\n",
            "cupy-cuda12x                             13.3.0\n",
            "curl_cffi                                0.13.0\n",
            "cuvs-cu12                                25.6.1\n",
            "cvxopt                                   1.3.2\n",
            "cvxpy                                    1.6.7\n",
            "cycler                                   0.12.1\n",
            "cyipopt                                  1.5.0\n",
            "cymem                                    2.0.11\n",
            "Cython                                   3.0.12\n",
            "dask                                     2025.5.0\n",
            "dask-cuda                                25.6.0\n",
            "dask-cudf-cu12                           25.6.0\n",
            "dataproc-spark-connect                   0.8.3\n",
            "datasets                                 4.0.0\n",
            "db-dtypes                                1.4.3\n",
            "dbus-python                              1.2.18\n",
            "debugpy                                  1.8.15\n",
            "decorator                                4.4.2\n",
            "defusedxml                               0.7.1\n",
            "diffusers                                0.35.1\n",
            "dill                                     0.3.8\n",
            "distributed                              2025.5.0\n",
            "distributed-ucxx-cu12                    0.44.0\n",
            "distro                                   1.9.0\n",
            "dlib                                     19.24.6\n",
            "dm-tree                                  0.1.9\n",
            "docstring_parser                         0.17.0\n",
            "docutils                                 0.21.2\n",
            "dopamine_rl                              4.1.2\n",
            "duckdb                                   1.3.2\n",
            "earthengine-api                          1.5.24\n",
            "easydict                                 1.13\n",
            "editdistance                             0.8.1\n",
            "eerepr                                   0.1.2\n",
            "einops                                   0.8.1\n",
            "en_core_web_sm                           3.8.0\n",
            "entrypoints                              0.4\n",
            "et_xmlfile                               2.0.0\n",
            "etils                                    1.13.0\n",
            "etuples                                  0.3.10\n",
            "Farama-Notifications                     0.0.4\n",
            "fastai                                   2.8.4\n",
            "fastapi                                  0.118.0\n",
            "fastcore                                 1.8.12\n",
            "fastdownload                             0.0.7\n",
            "fastjsonschema                           2.21.2\n",
            "fastprogress                             1.0.3\n",
            "fastrlock                                0.8.3\n",
            "fasttransform                            0.0.2\n",
            "ffmpy                                    0.6.1\n",
            "filelock                                 3.19.1\n",
            "firebase-admin                           6.9.0\n",
            "Flask                                    3.1.2\n",
            "flatbuffers                              25.9.23\n",
            "flax                                     0.10.6\n",
            "folium                                   0.20.0\n",
            "fonttools                                4.60.1\n",
            "fqdn                                     1.5.1\n",
            "frozendict                               2.4.6\n",
            "frozenlist                               1.7.0\n",
            "fsspec                                   2025.3.0\n",
            "future                                   1.0.0\n",
            "gast                                     0.6.0\n",
            "gcsfs                                    2025.3.0\n",
            "GDAL                                     3.8.4\n",
            "gdown                                    5.2.0\n",
            "geemap                                   0.35.3\n",
            "geocoder                                 1.38.1\n",
            "geographiclib                            2.1\n",
            "geopandas                                1.1.1\n",
            "geopy                                    2.4.1\n",
            "gin-config                               0.5.0\n",
            "gitdb                                    4.0.12\n",
            "GitPython                                3.1.45\n",
            "glob2                                    0.7\n",
            "google                                   2.0.3\n",
            "google-adk                               1.15.1\n",
            "google-ai-generativelanguage             0.6.15\n",
            "google-api-core                          2.25.1\n",
            "google-api-python-client                 2.183.0\n",
            "google-auth                              2.38.0\n",
            "google-auth-httplib2                     0.2.0\n",
            "google-auth-oauthlib                     1.2.2\n",
            "google-cloud-aiplatform                  1.118.0\n",
            "google-cloud-appengine-logging           1.6.2\n",
            "google-cloud-audit-log                   0.3.2\n",
            "google-cloud-bigquery                    3.38.0\n",
            "google-cloud-bigquery-connection         1.18.3\n",
            "google-cloud-bigquery-storage            2.33.1\n",
            "google-cloud-bigtable                    2.32.0\n",
            "google-cloud-core                        2.4.3\n",
            "google-cloud-dataproc                    5.22.0\n",
            "google-cloud-datastore                   2.21.0\n",
            "google-cloud-firestore                   2.21.0\n",
            "google-cloud-functions                   1.20.4\n",
            "google-cloud-language                    2.17.2\n",
            "google-cloud-logging                     3.12.1\n",
            "google-cloud-monitoring                  2.27.2\n",
            "google-cloud-resource-manager            1.14.2\n",
            "google-cloud-secret-manager              2.24.0\n",
            "google-cloud-spanner                     3.58.0\n",
            "google-cloud-speech                      2.33.0\n",
            "google-cloud-storage                     2.19.0\n",
            "google-cloud-trace                       1.16.2\n",
            "google-cloud-translate                   3.21.1\n",
            "google-colab                             1.0.0\n",
            "google-crc32c                            1.7.1\n",
            "google-genai                             1.39.1\n",
            "google-generativeai                      0.8.5\n",
            "google-pasta                             0.2.0\n",
            "google-resumable-media                   2.7.2\n",
            "googleapis-common-protos                 1.70.0\n",
            "googledrivedownloader                    1.1.0\n",
            "gradio                                   5.47.2\n",
            "gradio_client                            1.13.3\n",
            "graphviz                                 0.21\n",
            "greenlet                                 3.2.4\n",
            "groovy                                   0.1.2\n",
            "grpc-google-iam-v1                       0.14.2\n",
            "grpc-interceptor                         0.15.4\n",
            "grpcio                                   1.75.1\n",
            "grpcio-status                            1.71.2\n",
            "grpclib                                  0.4.8\n",
            "gspread                                  6.2.1\n",
            "gspread-dataframe                        4.0.0\n",
            "gym                                      0.25.2\n",
            "gym-notices                              0.1.0\n",
            "gymnasium                                1.2.1\n",
            "h11                                      0.16.0\n",
            "h2                                       4.3.0\n",
            "h5netcdf                                 1.6.4\n",
            "h5py                                     3.14.0\n",
            "hdbscan                                  0.8.40\n",
            "hf_transfer                              0.1.9\n",
            "hf-xet                                   1.1.10\n",
            "highspy                                  1.11.0\n",
            "holidays                                 0.81\n",
            "holoviews                                1.21.0\n",
            "hpack                                    4.1.0\n",
            "html5lib                                 1.1\n",
            "httpcore                                 1.0.9\n",
            "httpimport                               1.4.1\n",
            "httplib2                                 0.31.0\n",
            "httpx                                    0.28.1\n",
            "httpx-sse                                0.4.1\n",
            "huggingface-hub                          0.35.3\n",
            "humanize                                 4.13.0\n",
            "hyperframe                               6.1.0\n",
            "hyperopt                                 0.2.7\n",
            "ibis-framework                           9.5.0\n",
            "idna                                     3.10\n",
            "imageio                                  2.37.0\n",
            "imageio-ffmpeg                           0.6.0\n",
            "imagesize                                1.4.1\n",
            "imbalanced-learn                         0.14.0\n",
            "immutabledict                            4.2.1\n",
            "importlib_metadata                       8.7.0\n",
            "importlib_resources                      6.5.2\n",
            "imutils                                  0.5.4\n",
            "inflect                                  7.5.0\n",
            "iniconfig                                2.1.0\n",
            "intel-cmplr-lib-ur                       2025.2.1\n",
            "intel-openmp                             2025.2.1\n",
            "ipyevents                                2.0.4\n",
            "ipyfilechooser                           0.6.0\n",
            "ipykernel                                6.17.1\n",
            "ipyleaflet                               0.20.0\n",
            "ipyparallel                              8.8.0\n",
            "ipython                                  7.34.0\n",
            "ipython-genutils                         0.2.0\n",
            "ipython-sql                              0.5.0\n",
            "ipytree                                  0.2.2\n",
            "ipywidgets                               7.7.1\n",
            "isoduration                              20.11.0\n",
            "itsdangerous                             2.2.0\n",
            "jaraco.classes                           3.4.0\n",
            "jaraco.context                           6.0.1\n",
            "jaraco.functools                         4.3.0\n",
            "jax                                      0.5.3\n",
            "jax-cuda12-pjrt                          0.5.3\n",
            "jax-cuda12-plugin                        0.5.3\n",
            "jaxlib                                   0.5.3\n",
            "jeepney                                  0.9.0\n",
            "jieba                                    0.42.1\n",
            "Jinja2                                   3.1.6\n",
            "jiter                                    0.11.0\n",
            "joblib                                   1.5.2\n",
            "jsonpatch                                1.33\n",
            "jsonpickle                               4.1.1\n",
            "jsonpointer                              3.0.0\n",
            "jsonschema                               4.25.1\n",
            "jsonschema-specifications                2025.9.1\n",
            "jupyter_client                           7.4.9\n",
            "jupyter-console                          6.6.3\n",
            "jupyter_core                             5.8.1\n",
            "jupyter-events                           0.12.0\n",
            "jupyter_kernel_gateway                   2.5.2\n",
            "jupyter-leaflet                          0.20.0\n",
            "jupyter_server                           2.14.0\n",
            "jupyter_server_terminals                 0.5.3\n",
            "jupyterlab_pygments                      0.3.0\n",
            "jupyterlab_widgets                       3.0.15\n",
            "jupytext                                 1.17.3\n",
            "kaggle                                   1.7.4.5\n",
            "kagglehub                                0.3.13\n",
            "keras                                    3.10.0\n",
            "keras-hub                                0.21.1\n",
            "keras-nlp                                0.21.1\n",
            "keyring                                  25.6.0\n",
            "keyrings.google-artifactregistry-auth    1.1.2\n",
            "kiwisolver                               1.4.9\n",
            "langchain                                0.3.27\n",
            "langchain-core                           0.3.77\n",
            "langchain-text-splitters                 0.3.11\n",
            "langcodes                                3.5.0\n",
            "langsmith                                0.4.31\n",
            "language_data                            1.3.0\n",
            "lark                                     1.3.0\n",
            "launchpadlib                             1.10.16\n",
            "lazr.restfulclient                       0.14.4\n",
            "lazr.uri                                 1.0.6\n",
            "lazy_loader                              0.4\n",
            "libclang                                 18.1.1\n",
            "libcudf-cu12                             25.6.0\n",
            "libcugraph-cu12                          25.6.0\n",
            "libcuml-cu12                             25.6.0\n",
            "libcuvs-cu12                             25.6.1\n",
            "libkvikio-cu12                           25.6.0\n",
            "libpysal                                 4.13.0\n",
            "libraft-cu12                             25.6.0\n",
            "librmm-cu12                              25.6.0\n",
            "librosa                                  0.11.0\n",
            "libucx-cu12                              1.18.1\n",
            "libucxx-cu12                             0.44.0\n",
            "lightgbm                                 4.6.0\n",
            "linkify-it-py                            2.0.3\n",
            "llvmlite                                 0.43.0\n",
            "locket                                   1.0.0\n",
            "logical-unification                      0.4.6\n",
            "lxml                                     5.4.0\n",
            "Mako                                     1.3.10\n",
            "marisa-trie                              1.3.1\n",
            "Markdown                                 3.9\n",
            "markdown-it-py                           4.0.0\n",
            "MarkupSafe                               3.0.3\n",
            "matplotlib                               3.10.0\n",
            "matplotlib-inline                        0.1.7\n",
            "matplotlib-venn                          1.1.2\n",
            "mcp                                      1.15.0\n",
            "mdit-py-plugins                          0.5.0\n",
            "mdurl                                    0.1.2\n",
            "miniKanren                               1.0.5\n",
            "missingno                                0.5.2\n",
            "mistune                                  3.1.4\n",
            "mizani                                   0.13.5\n",
            "mkl                                      2025.2.0\n",
            "ml_dtypes                                0.5.3\n",
            "mlxtend                                  0.23.4\n",
            "more-itertools                           10.8.0\n",
            "moviepy                                  1.0.3\n",
            "mpmath                                   1.3.0\n",
            "msgpack                                  1.1.1\n",
            "multidict                                6.6.4\n",
            "multipledispatch                         1.0.0\n",
            "multiprocess                             0.70.16\n",
            "multitasking                             0.0.12\n",
            "murmurhash                               1.0.13\n",
            "music21                                  9.3.0\n",
            "namex                                    0.1.0\n",
            "narwhals                                 2.6.0\n",
            "natsort                                  8.4.0\n",
            "nbclassic                                1.3.3\n",
            "nbclient                                 0.10.2\n",
            "nbconvert                                7.16.6\n",
            "nbformat                                 5.10.4\n",
            "ndindex                                  1.10.0\n",
            "nest-asyncio                             1.6.0\n",
            "networkx                                 3.5\n",
            "nibabel                                  5.3.2\n",
            "nltk                                     3.9.1\n",
            "notebook                                 6.5.7\n",
            "notebook_shim                            0.2.4\n",
            "numba                                    0.60.0\n",
            "numba-cuda                               0.11.0\n",
            "numexpr                                  2.13.1\n",
            "numpy                                    2.0.2\n",
            "nvidia-cublas-cu12                       12.6.4.1\n",
            "nvidia-cuda-cupti-cu12                   12.6.80\n",
            "nvidia-cuda-nvcc-cu12                    12.5.82\n",
            "nvidia-cuda-nvrtc-cu12                   12.6.77\n",
            "nvidia-cuda-runtime-cu12                 12.6.77\n",
            "nvidia-cudnn-cu12                        9.10.2.21\n",
            "nvidia-cufft-cu12                        11.3.0.4\n",
            "nvidia-cufile-cu12                       1.11.1.6\n",
            "nvidia-curand-cu12                       10.3.7.77\n",
            "nvidia-cusolver-cu12                     11.7.1.2\n",
            "nvidia-cusparse-cu12                     12.5.4.2\n",
            "nvidia-cusparselt-cu12                   0.7.1\n",
            "nvidia-ml-py                             12.575.51\n",
            "nvidia-nccl-cu12                         2.27.3\n",
            "nvidia-nvjitlink-cu12                    12.6.85\n",
            "nvidia-nvtx-cu12                         12.6.77\n",
            "nvtx                                     0.2.13\n",
            "nx-cugraph-cu12                          25.6.0\n",
            "oauth2client                             4.1.3\n",
            "oauthlib                                 3.3.1\n",
            "omegaconf                                2.3.0\n",
            "openai                                   1.109.1\n",
            "opencv-contrib-python                    4.12.0.88\n",
            "opencv-python                            4.12.0.88\n",
            "opencv-python-headless                   4.12.0.88\n",
            "openpyxl                                 3.1.5\n",
            "opentelemetry-api                        1.37.0\n",
            "opentelemetry-exporter-gcp-logging       1.9.0a0\n",
            "opentelemetry-exporter-gcp-monitoring    1.9.0a0\n",
            "opentelemetry-exporter-gcp-trace         1.9.0\n",
            "opentelemetry-exporter-otlp-proto-common 1.37.0\n",
            "opentelemetry-exporter-otlp-proto-http   1.37.0\n",
            "opentelemetry-proto                      1.37.0\n",
            "opentelemetry-resourcedetector-gcp       1.9.0a0\n",
            "opentelemetry-sdk                        1.37.0\n",
            "opentelemetry-semantic-conventions       0.58b0\n",
            "opt_einsum                               3.4.0\n",
            "optax                                    0.2.6\n",
            "optree                                   0.17.0\n",
            "orbax-checkpoint                         0.11.24\n",
            "orjson                                   3.11.3\n",
            "osqp                                     1.0.4\n",
            "overrides                                7.7.0\n",
            "packaging                                25.0\n",
            "pandas                                   2.2.2\n",
            "pandas-datareader                        0.10.0\n",
            "pandas-gbq                               0.29.2\n",
            "pandas-stubs                             2.2.2.240909\n",
            "pandocfilters                            1.5.1\n",
            "panel                                    1.8.1\n",
            "param                                    2.2.1\n",
            "parso                                    0.8.5\n",
            "parsy                                    2.2\n",
            "partd                                    1.4.2\n",
            "patsy                                    1.0.1\n",
            "peewee                                   3.18.2\n",
            "peft                                     0.17.1\n",
            "pexpect                                  4.9.0\n",
            "pickleshare                              0.7.5\n",
            "pillow                                   11.3.0\n",
            "pip                                      24.1.2\n",
            "platformdirs                             4.4.0\n",
            "plotly                                   5.24.1\n",
            "plotnine                                 0.14.5\n",
            "pluggy                                   1.6.0\n",
            "plum-dispatch                            2.5.7\n",
            "ply                                      3.11\n",
            "polars                                   1.25.2\n",
            "pooch                                    1.8.2\n",
            "portpicker                               1.5.2\n",
            "preshed                                  3.0.10\n",
            "prettytable                              3.16.0\n",
            "proglog                                  0.1.12\n",
            "progressbar2                             4.5.0\n",
            "prometheus_client                        0.23.1\n",
            "promise                                  2.3\n",
            "prompt_toolkit                           3.0.52\n",
            "propcache                                0.3.2\n",
            "prophet                                  1.1.7\n",
            "proto-plus                               1.26.1\n",
            "protobuf                                 5.29.5\n",
            "psutil                                   5.9.5\n",
            "psycopg2                                 2.9.10\n",
            "psygnal                                  0.14.2\n",
            "ptyprocess                               0.7.0\n",
            "py-cpuinfo                               9.0.0\n",
            "py4j                                     0.10.9.7\n",
            "pyarrow                                  18.1.0\n",
            "pyasn1                                   0.6.1\n",
            "pyasn1_modules                           0.4.2\n",
            "pycairo                                  1.28.0\n",
            "pycocotools                              2.0.10\n",
            "pycparser                                2.23\n",
            "pycryptodomex                            3.23.0\n",
            "pydantic                                 2.11.9\n",
            "pydantic_core                            2.33.2\n",
            "pydantic-settings                        2.11.0\n",
            "pydata-google-auth                       1.9.1\n",
            "pydot                                    3.0.4\n",
            "pydotplus                                2.0.2\n",
            "PyDrive2                                 1.21.3\n",
            "pydub                                    0.25.1\n",
            "pyerfa                                   2.0.1.5\n",
            "pygame                                   2.6.1\n",
            "pygit2                                   1.18.2\n",
            "Pygments                                 2.19.2\n",
            "PyGObject                                3.42.0\n",
            "PyJWT                                    2.10.1\n",
            "pylibcudf-cu12                           25.6.0\n",
            "pylibcugraph-cu12                        25.6.0\n",
            "pylibraft-cu12                           25.6.0\n",
            "pymc                                     5.25.1\n",
            "pynndescent                              0.5.13\n",
            "pynvjitlink-cu12                         0.7.0\n",
            "pynvml                                   12.0.0\n",
            "pyogrio                                  0.11.1\n",
            "pyomo                                    6.9.4\n",
            "PyOpenGL                                 3.1.10\n",
            "pyOpenSSL                                24.2.1\n",
            "pyparsing                                3.2.5\n",
            "pyperclip                                1.11.0\n",
            "pyproj                                   3.7.2\n",
            "pyproject_hooks                          1.2.0\n",
            "pyshp                                    2.3.1\n",
            "PySocks                                  1.7.1\n",
            "pyspark                                  3.5.1\n",
            "pytensor                                 2.31.7\n",
            "pytest                                   8.4.2\n",
            "python-apt                               0.0.0\n",
            "python-box                               7.3.2\n",
            "python-dateutil                          2.9.0.post0\n",
            "python-dotenv                            1.1.1\n",
            "python-json-logger                       3.3.0\n",
            "python-louvain                           0.16\n",
            "python-multipart                         0.0.20\n",
            "python-slugify                           8.0.4\n",
            "python-snappy                            0.7.3\n",
            "python-utils                             3.9.1\n",
            "pytz                                     2025.2\n",
            "pyviz_comms                              3.0.6\n",
            "PyWavelets                               1.9.0\n",
            "PyYAML                                   6.0.3\n",
            "pyzmq                                    26.2.1\n",
            "raft-dask-cu12                           25.6.0\n",
            "rapids-dask-dependency                   25.6.0\n",
            "rapids-logger                            0.1.1\n",
            "ratelim                                  0.1.6\n",
            "referencing                              0.36.2\n",
            "regex                                    2024.11.6\n",
            "requests                                 2.32.4\n",
            "requests-oauthlib                        2.0.0\n",
            "requests-toolbelt                        1.0.0\n",
            "requirements-parser                      0.9.0\n",
            "rfc3339-validator                        0.1.4\n",
            "rfc3986-validator                        0.1.1\n",
            "rfc3987-syntax                           1.1.0\n",
            "rich                                     13.9.4\n",
            "rmm-cu12                                 25.6.0\n",
            "roman-numerals-py                        3.1.0\n",
            "rpds-py                                  0.27.1\n",
            "rpy2                                     3.5.17\n",
            "rsa                                      4.9.1\n",
            "ruff                                     0.13.2\n",
            "safehttpx                                0.1.6\n",
            "safetensors                              0.6.2\n",
            "scikit-image                             0.25.2\n",
            "scikit-learn                             1.6.1\n",
            "scipy                                    1.16.2\n",
            "scooby                                   0.10.2\n",
            "scs                                      3.2.8\n",
            "seaborn                                  0.13.2\n",
            "SecretStorage                            3.4.0\n",
            "semantic-version                         2.10.0\n",
            "Send2Trash                               1.8.3\n",
            "sentence-transformers                    5.1.1\n",
            "sentencepiece                            0.2.1\n",
            "sentry-sdk                               2.39.0\n",
            "setuptools                               75.2.0\n",
            "shap                                     0.48.0\n",
            "shapely                                  2.1.2\n",
            "shellingham                              1.5.4\n",
            "simple-parsing                           0.1.7\n",
            "simplejson                               3.20.2\n",
            "simsimd                                  6.5.3\n",
            "six                                      1.17.0\n",
            "sklearn-pandas                           2.2.0\n",
            "slicer                                   0.0.8\n",
            "smart_open                               7.3.1\n",
            "smmap                                    5.0.2\n",
            "sniffio                                  1.3.1\n",
            "snowballstemmer                          3.0.1\n",
            "sortedcontainers                         2.4.0\n",
            "soundfile                                0.13.1\n",
            "soupsieve                                2.8\n",
            "soxr                                     1.0.0\n",
            "spacy                                    3.8.7\n",
            "spacy-legacy                             3.0.12\n",
            "spacy-loggers                            1.0.5\n",
            "spanner-graph-notebook                   1.1.8\n",
            "Sphinx                                   8.2.3\n",
            "sphinxcontrib-applehelp                  2.0.0\n",
            "sphinxcontrib-devhelp                    2.0.0\n",
            "sphinxcontrib-htmlhelp                   2.1.0\n",
            "sphinxcontrib-jsmath                     1.0.1\n",
            "sphinxcontrib-qthelp                     2.0.0\n",
            "sphinxcontrib-serializinghtml            2.0.0\n",
            "SQLAlchemy                               2.0.43\n",
            "sqlalchemy-spanner                       1.16.0\n",
            "sqlglot                                  25.20.2\n",
            "sqlparse                                 0.5.3\n",
            "srsly                                    2.5.1\n",
            "sse-starlette                            3.0.2\n",
            "stanio                                   0.5.1\n",
            "starlette                                0.48.0\n",
            "statsmodels                              0.14.5\n",
            "stringzilla                              4.0.15\n",
            "stumpy                                   1.13.0\n",
            "sympy                                    1.13.3\n",
            "tables                                   3.10.2\n",
            "tabulate                                 0.9.0\n",
            "tbb                                      2022.2.0\n",
            "tblib                                    3.1.0\n",
            "tcmlib                                   1.4.0\n",
            "tenacity                                 8.5.0\n",
            "tensorboard                              2.19.0\n",
            "tensorboard-data-server                  0.7.2\n",
            "tensorflow                               2.19.0\n",
            "tensorflow-datasets                      4.9.9\n",
            "tensorflow_decision_forests              1.12.0\n",
            "tensorflow-hub                           0.16.1\n",
            "tensorflow-metadata                      1.17.2\n",
            "tensorflow-probability                   0.25.0\n",
            "tensorflow-text                          2.19.0\n",
            "tensorstore                              0.1.77\n",
            "termcolor                                3.1.0\n",
            "terminado                                0.18.1\n",
            "text-unidecode                           1.3\n",
            "textblob                                 0.19.0\n",
            "tf_keras                                 2.19.0\n",
            "tf-slim                                  1.1.0\n",
            "thinc                                    8.3.6\n",
            "threadpoolctl                            3.6.0\n",
            "tifffile                                 2025.9.30\n",
            "tiktoken                                 0.11.0\n",
            "timm                                     1.0.20\n",
            "tinycss2                                 1.4.0\n",
            "tokenizers                               0.22.1\n",
            "toml                                     0.10.2\n",
            "tomlkit                                  0.13.3\n",
            "toolz                                    0.12.1\n",
            "torch                                    2.8.0+cu126\n",
            "torchao                                  0.10.0\n",
            "torchaudio                               2.8.0+cu126\n",
            "torchdata                                0.11.0\n",
            "torchsummary                             1.5.1\n",
            "torchtune                                0.6.1\n",
            "torchvision                              0.23.0+cu126\n",
            "tornado                                  6.4.2\n",
            "tqdm                                     4.67.1\n",
            "traitlets                                5.7.1\n",
            "traittypes                               0.2.1\n",
            "transformers                             4.56.2\n",
            "treelite                                 4.4.1\n",
            "treescope                                0.1.10\n",
            "triton                                   3.4.0\n",
            "tsfresh                                  0.21.1\n",
            "tweepy                                   4.16.0\n",
            "typeguard                                4.4.4\n",
            "typer                                    0.19.2\n",
            "types-python-dateutil                    2.9.0.20250822\n",
            "types-pytz                               2025.2.0.20250809\n",
            "types-setuptools                         80.9.0.20250822\n",
            "typing_extensions                        4.15.0\n",
            "typing-inspection                        0.4.2\n",
            "tzdata                                   2025.2\n",
            "tzlocal                                  5.3.1\n",
            "uc-micro-py                              1.0.3\n",
            "ucx-py-cu12                              0.44.0\n",
            "ucxx-cu12                                0.44.0\n",
            "umap-learn                               0.5.9.post2\n",
            "umf                                      0.11.0\n",
            "uri-template                             1.3.0\n",
            "uritemplate                              4.2.0\n",
            "urllib3                                  2.5.0\n",
            "uvicorn                                  0.37.0\n",
            "vega-datasets                            0.9.0\n",
            "wadllib                                  1.3.6\n",
            "wandb                                    0.22.1\n",
            "wasabi                                   1.1.3\n",
            "watchdog                                 6.0.0\n",
            "wcwidth                                  0.2.14\n",
            "weasel                                   0.4.1\n",
            "webcolors                                24.11.1\n",
            "webencodings                             0.5.1\n",
            "websocket-client                         1.8.0\n",
            "websockets                               15.0.1\n",
            "Werkzeug                                 3.1.3\n",
            "wheel                                    0.45.1\n",
            "widgetsnbextension                       3.6.10\n",
            "wordcloud                                1.9.4\n",
            "wrapt                                    1.17.3\n",
            "wurlitzer                                3.1.1\n",
            "xarray                                   2025.9.1\n",
            "xarray-einstats                          0.9.1\n",
            "xgboost                                  3.0.5\n",
            "xlrd                                     2.0.2\n",
            "xxhash                                   3.5.0\n",
            "xyzservices                              2025.4.0\n",
            "yarl                                     1.20.1\n",
            "ydf                                      0.13.0\n",
            "yellowbrick                              1.5\n",
            "yfinance                                 0.2.66\n",
            "zict                                     3.0.0\n",
            "zipp                                     3.23.0\n",
            "zstandard                                0.25.0\n"
          ]
        }
      ],
      "source": [
        "# Checking installed packages\n",
        "!pip list\n"
      ]
    },
    {
      "cell_type": "markdown",
      "id": "6de90b64-4f57-49ee-888c-9be3b35a40dd",
      "metadata": {
        "id": "6de90b64-4f57-49ee-888c-9be3b35a40dd"
      },
      "source": [
        "## 12. Exception Handling in Python\n",
        "\n",
        "Exception handling allows you to manage errors in your Python programs, preventing them from crashing unexpectedly. In this section, we will cover the basics of exception handling using `try`, `except`, and `finally` blocks, as well as improving the robustness of your scripts by handling common errors and diagnosing issues.\n",
        "\n",
        "### 12.1 Basics of Exception Handling\n",
        "\n",
        "In Python, exceptions are handled using `try`, `except`, and optionally `finally` blocks. This allows the program to continue executing even when an error occurs.\n",
        "\n",
        "#### 12.1.1 Try and Except Blocks\n",
        "The `try` block contains the code that may raise an exception. If an exception occurs, it is caught by the `except` block, where you can handle the error.\n"
      ]
    },
    {
      "cell_type": "code",
      "execution_count": 73,
      "id": "90c4ea9d-069a-4a5a-8f72-b141c1a4a475",
      "metadata": {
        "id": "90c4ea9d-069a-4a5a-8f72-b141c1a4a475",
        "colab": {
          "base_uri": "https://localhost:8080/"
        },
        "outputId": "32bfeea6-e5a5-44f9-ad7e-f4a0156ddce0"
      },
      "outputs": [
        {
          "output_type": "stream",
          "name": "stdout",
          "text": [
            "You cannot divide by zero!\n"
          ]
        }
      ],
      "source": [
        "# Example: Basic Try and Except Block\n",
        "try:\n",
        "    x = 10 / 0  # This will raise a ZeroDivisionError\n",
        "except ZeroDivisionError:\n",
        "    print(\"You cannot divide by zero!\")\n"
      ]
    },
    {
      "cell_type": "markdown",
      "id": "6d70dd1a-0834-4536-a392-c4845f0265f6",
      "metadata": {
        "id": "6d70dd1a-0834-4536-a392-c4845f0265f6"
      },
      "source": [
        "#### 12.1.2 Multiple Except Blocks\n",
        "You can have multiple `except` blocks to handle different types of exceptions.\n"
      ]
    },
    {
      "cell_type": "code",
      "execution_count": 74,
      "id": "8c642aa7-4622-48e0-a6ee-d8b37a2d6f19",
      "metadata": {
        "id": "8c642aa7-4622-48e0-a6ee-d8b37a2d6f19",
        "colab": {
          "base_uri": "https://localhost:8080/"
        },
        "outputId": "bc234b2e-ae89-4bc8-9c4c-6a005d8e5746"
      },
      "outputs": [
        {
          "name": "stdout",
          "output_type": "stream",
          "text": [
            "Enter a number: 1\n"
          ]
        }
      ],
      "source": [
        "# Example: Handling Multiple Exceptions\n",
        "try:\n",
        "    num = int(input(\"Enter a number: \"))\n",
        "    result = 10 / num\n",
        "except ValueError:\n",
        "    print(\"Invalid input! Please enter a valid number.\")\n",
        "except ZeroDivisionError:\n",
        "    print(\"You cannot divide by zero!\")\n"
      ]
    },
    {
      "cell_type": "markdown",
      "id": "66ef71e9-dc1b-476b-821a-ee0f55f425e7",
      "metadata": {
        "id": "66ef71e9-dc1b-476b-821a-ee0f55f425e7"
      },
      "source": [
        "#### 12.1.3 The Finally Block\n",
        "The `finally` block is used to execute code regardless of whether an exception was raised or not. This is useful for cleaning up resources, like closing files or database connections.\n"
      ]
    },
    {
      "cell_type": "code",
      "execution_count": 76,
      "id": "2d89395f-0ce4-40c1-8ca3-a21b4ad83c89",
      "metadata": {
        "id": "2d89395f-0ce4-40c1-8ca3-a21b4ad83c89",
        "colab": {
          "base_uri": "https://localhost:8080/"
        },
        "outputId": "06c48682-76a7-46f4-aafa-58dbfee0373c"
      },
      "outputs": [
        {
          "output_type": "stream",
          "name": "stdout",
          "text": [
            "File not found!\n",
            "Execution finished.\n"
          ]
        }
      ],
      "source": [
        "# Example: Try, Except, and Finally Block (corrected)\n",
        "try:\n",
        "    with open(\"example.txt\", \"r\") as file:\n",
        "        data = file.read()\n",
        "except FileNotFoundError:\n",
        "    print(\"File not found!\")\n",
        "finally:\n",
        "    print(\"Execution finished.\") # The 'with' statement handles closing the file"
      ]
    },
    {
      "cell_type": "markdown",
      "id": "68344e96-6444-48b3-9bdf-71f39fc87fa2",
      "metadata": {
        "id": "68344e96-6444-48b3-9bdf-71f39fc87fa2"
      },
      "source": [
        "### 12.2 Handling Common Errors in Scripts\n",
        "\n",
        "There are some common errors in Python scripts that can be handled effectively with exception handling.\n",
        "\n",
        "#### 12.2.1 Handling File Not Found Errors\n",
        "FileNotFoundError occurs when a file or directory is requested but cannot be found.\n"
      ]
    },
    {
      "cell_type": "code",
      "execution_count": 77,
      "id": "29be3b5a-0217-4b8d-9b96-fb86cb93513a",
      "metadata": {
        "id": "29be3b5a-0217-4b8d-9b96-fb86cb93513a",
        "colab": {
          "base_uri": "https://localhost:8080/"
        },
        "outputId": "9d61cb31-12f4-4467-b790-67c696fbb62f"
      },
      "outputs": [
        {
          "output_type": "stream",
          "name": "stdout",
          "text": [
            "The file you're trying to open doesn't exist.\n"
          ]
        }
      ],
      "source": [
        "# Example: Handling FileNotFoundError\n",
        "try:\n",
        "    with open(\"non_existent_file.txt\", \"r\") as file:\n",
        "        content = file.read()\n",
        "except FileNotFoundError:\n",
        "    print(\"The file you're trying to open doesn't exist.\")\n"
      ]
    },
    {
      "cell_type": "markdown",
      "id": "d61e5daf-0e66-422a-92ce-1babf5eb2bda",
      "metadata": {
        "id": "d61e5daf-0e66-422a-92ce-1babf5eb2bda"
      },
      "source": [
        "#### 12.2.2 Handling Value Errors in Input\n",
        "ValueError occurs when a function receives an argument of the correct type but an inappropriate value.\n"
      ]
    },
    {
      "cell_type": "code",
      "execution_count": 78,
      "id": "64b9b700-f684-42d5-b9b3-1abf1b941a8e",
      "metadata": {
        "id": "64b9b700-f684-42d5-b9b3-1abf1b941a8e",
        "colab": {
          "base_uri": "https://localhost:8080/"
        },
        "outputId": "254175c6-4694-4a5e-bbc5-c1cf73158add"
      },
      "outputs": [
        {
          "name": "stdout",
          "output_type": "stream",
          "text": [
            "Enter an integer: 2\n"
          ]
        }
      ],
      "source": [
        "# Example: Handling ValueError for invalid input\n",
        "try:\n",
        "    number = int(input(\"Enter an integer: \"))\n",
        "except ValueError:\n",
        "    print(\"That's not a valid integer!\")\n"
      ]
    },
    {
      "cell_type": "markdown",
      "id": "a18d4c1e-0e6f-4f3c-9380-2164a9f294a0",
      "metadata": {
        "id": "a18d4c1e-0e6f-4f3c-9380-2164a9f294a0"
      },
      "source": [
        "### 12.3 Improving Script Robustness\n",
        "\n",
        "Robustness refers to the ability of a script to handle unexpected errors and continue running smoothly. Exception handling plays a crucial role in achieving this.\n",
        "\n",
        "#### 12.3.1 Diagnosing and Resolving Errors\n",
        "\n",
        "You can use `try` and `except` blocks not only to catch errors but also to diagnose the source of errors and resolve them effectively.\n",
        "\n",
        "#### Example: Diagnosing Errors\n",
        "You can print the exception message to diagnose the error.\n"
      ]
    },
    {
      "cell_type": "code",
      "execution_count": 79,
      "id": "82bb8418-b9a0-4ecd-b2ff-12ef6aea1e76",
      "metadata": {
        "id": "82bb8418-b9a0-4ecd-b2ff-12ef6aea1e76",
        "colab": {
          "base_uri": "https://localhost:8080/"
        },
        "outputId": "c7c54b1f-4a38-4352-e44d-326817f047f3"
      },
      "outputs": [
        {
          "output_type": "stream",
          "name": "stdout",
          "text": [
            "Error occurred: division by zero\n"
          ]
        }
      ],
      "source": [
        "# Example: Diagnosing an error with exception message\n",
        "try:\n",
        "    result = 10 / 0\n",
        "except ZeroDivisionError as e:\n",
        "    print(f\"Error occurred: {e}\")\n"
      ]
    },
    {
      "cell_type": "markdown",
      "id": "1f041138-81b0-40db-84ab-6308db59a681",
      "metadata": {
        "id": "1f041138-81b0-40db-84ab-6308db59a681"
      },
      "source": [
        "#### 12.3.2 Handling Multiple Exceptions with a Single Block\n",
        "\n",
        "Sometimes it's more convenient to catch multiple types of exceptions in a single `except` block using a tuple.\n"
      ]
    },
    {
      "cell_type": "code",
      "execution_count": 80,
      "id": "4efaf85f-db8e-4187-ad89-80eec9a47cf5",
      "metadata": {
        "id": "4efaf85f-db8e-4187-ad89-80eec9a47cf5",
        "colab": {
          "base_uri": "https://localhost:8080/"
        },
        "outputId": "070cc157-7992-4500-bcdf-f43a38a760bc"
      },
      "outputs": [
        {
          "name": "stdout",
          "output_type": "stream",
          "text": [
            "Enter a number: 2\n"
          ]
        }
      ],
      "source": [
        "# Example: Catching multiple exceptions\n",
        "try:\n",
        "    num = int(input(\"Enter a number: \"))\n",
        "    result = 10 / num\n",
        "except (ValueError, ZeroDivisionError) as e:\n",
        "    print(f\"An error occurred: {e}\")\n"
      ]
    },
    {
      "cell_type": "markdown",
      "id": "2a87e1c5-4624-48d3-bcba-ddc8153ab4c0",
      "metadata": {
        "id": "2a87e1c5-4624-48d3-bcba-ddc8153ab4c0"
      },
      "source": [
        "#### 12.3.3 Raising Exceptions\n",
        "\n",
        "You can raise exceptions manually using the `raise` keyword if you want to explicitly trigger an error in specific situations.\n"
      ]
    },
    {
      "cell_type": "code",
      "execution_count": 81,
      "id": "1f6e3e7e-0e9e-4b8d-b9f6-d194f0a6090d",
      "metadata": {
        "id": "1f6e3e7e-0e9e-4b8d-b9f6-d194f0a6090d",
        "colab": {
          "base_uri": "https://localhost:8080/"
        },
        "outputId": "e05ac6f0-0578-4b2d-c740-d2ac65a2d236"
      },
      "outputs": [
        {
          "output_type": "stream",
          "name": "stdout",
          "text": [
            "Enter your age: 43\n",
            "Age is valid.\n"
          ]
        }
      ],
      "source": [
        "# Example: Raising an exception manually\n",
        "def check_age(age):\n",
        "    if age < 18:\n",
        "        raise ValueError(\"Age must be 18 or older.\")\n",
        "    return \"Age is valid.\"\n",
        "\n",
        "try:\n",
        "    age = int(input(\"Enter your age: \"))\n",
        "    print(check_age(age))\n",
        "except ValueError as e:\n",
        "    print(f\"Error: {e}\")\n"
      ]
    },
    {
      "cell_type": "markdown",
      "id": "ba326c46-7e67-4baa-8ba6-d1fed0925c58",
      "metadata": {
        "id": "ba326c46-7e67-4baa-8ba6-d1fed0925c58"
      },
      "source": [
        "#### 12.3.4 Ensuring Reliable Script Execution\n",
        "\n",
        "By using exception handling effectively, you can ensure that your scripts are more reliable and user-friendly, handling errors gracefully rather than crashing.\n",
        "\n",
        "- Use specific exceptions to catch known issues.\n",
        "- Use the `finally` block for cleanup tasks.\n",
        "- Log or display error messages to help diagnose issues.\n"
      ]
    }
  ],
  "metadata": {
    "kernelspec": {
      "display_name": "Python 3 (ipykernel)",
      "language": "python",
      "name": "python3"
    },
    "language_info": {
      "codemirror_mode": {
        "name": "ipython",
        "version": 3
      },
      "file_extension": ".py",
      "mimetype": "text/x-python",
      "name": "python",
      "nbconvert_exporter": "python",
      "pygments_lexer": "ipython3",
      "version": "3.11.7"
    },
    "colab": {
      "provenance": [],
      "toc_visible": true,
      "include_colab_link": true
    }
  },
  "nbformat": 4,
  "nbformat_minor": 5
}
