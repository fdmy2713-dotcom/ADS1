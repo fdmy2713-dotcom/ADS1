{
  "cells": [
    {
      "cell_type": "markdown",
      "metadata": {
        "id": "view-in-github",
        "colab_type": "text"
      },
      "source": [
        "<a href=\"https://colab.research.google.com/github/fdmy2713-dotcom/ADS1/blob/main/1_data_processing.ipynb\" target=\"_parent\"><img src=\"https://colab.research.google.com/assets/colab-badge.svg\" alt=\"Open In Colab\"/></a>"
      ]
    },
    {
      "cell_type": "markdown",
      "id": "ef2ec086-826e-4bda-9c23-add787f9d326",
      "metadata": {
        "id": "ef2ec086-826e-4bda-9c23-add787f9d326"
      },
      "source": [
        "## 1. Handling Missing Data"
      ]
    },
    {
      "cell_type": "code",
      "execution_count": 5,
      "id": "e87a89c2-8406-4b49-a5f1-0ee9fa1c9fe5",
      "metadata": {
        "colab": {
          "base_uri": "https://localhost:8080/"
        },
        "id": "e87a89c2-8406-4b49-a5f1-0ee9fa1c9fe5",
        "outputId": "eed58716-77c6-4a8c-c73a-4148e916f70a"
      },
      "outputs": [
        {
          "output_type": "stream",
          "name": "stdout",
          "text": [
            "Drive already mounted at /content/drive; to attempt to forcibly remount, call drive.mount(\"/content/drive\", force_remount=True).\n",
            "     name  score\n",
            "0  Andrew   78.0\n",
            "1   Betty   82.0\n",
            "2   Candy    NaN\n",
            "3   David   75.0\n",
            "4   Ellen    NaN\n",
            "5    Gary   60.0\n"
          ]
        }
      ],
      "source": [
        "import pandas as pd\n",
        "\n",
        "##Use this for local Jupyter Notebook\n",
        "##------------------------------------\n",
        "##import os\n",
        "##os.chdir('C:\\\\Users\\\\taiho\\\\Documents\\\\D_Drive\\\\Teaching Assignments\\\\PSB_Academy\\\\Hertfordshire_Course\\\\1_Masters_Fundamentals_of_Data_Science\\\\2_Personal_Materials\\\\3_Codes\\\\1_topical_codes\\\\data')\n",
        "##df = pd.read_csv('simple_missing_data.csv')\n",
        "##print(df)\n",
        "\n",
        "##Use this for Google Colab\n",
        "##------------------------------------\n",
        "from google.colab import drive\n",
        "drive.mount('/content/drive')\n",
        "file_path = '/content/drive/MyDrive/MSc in Data Science/FDS/Shared/02_Codes/data/simple_missing_data.csv'\n",
        "df = pd.read_csv(file_path)\n",
        "print(df)\n",
        "\n",
        "##df = pd.read_csv('simple_missing_data.csv')\n",
        "##print(df)"
      ]
    },
    {
      "cell_type": "code",
      "source": [
        "from google.colab import drive\n",
        "drive.mount('/content/drive')"
      ],
      "metadata": {
        "colab": {
          "base_uri": "https://localhost:8080/"
        },
        "id": "1k2XaHGLbW6L",
        "outputId": "00b594a8-6244-4ec9-bb0a-f6b2e8bd1172"
      },
      "id": "1k2XaHGLbW6L",
      "execution_count": 3,
      "outputs": [
        {
          "output_type": "stream",
          "name": "stdout",
          "text": [
            "Drive already mounted at /content/drive; to attempt to forcibly remount, call drive.mount(\"/content/drive\", force_remount=True).\n"
          ]
        }
      ]
    },
    {
      "cell_type": "code",
      "execution_count": null,
      "id": "56fad1e1-2848-4b75-99e0-4f0a01cc8aeb",
      "metadata": {
        "id": "56fad1e1-2848-4b75-99e0-4f0a01cc8aeb",
        "outputId": "d3415240-f2c1-4d49-cf8c-1fba859fe9a3"
      },
      "outputs": [
        {
          "name": "stdout",
          "output_type": "stream",
          "text": [
            "     name  score\n",
            "0  Andrew   78.0\n",
            "1   Betty   82.0\n",
            "3   David   75.0\n",
            "5    Gary   60.0\n"
          ]
        }
      ],
      "source": [
        "## option 1: drop rows with missing data\n",
        "df_dropped_rows = df.dropna()\n",
        "print(df_dropped_rows)"
      ]
    },
    {
      "cell_type": "code",
      "execution_count": null,
      "id": "6270612d-01e0-43c4-b73b-15adabd4d5e4",
      "metadata": {
        "id": "6270612d-01e0-43c4-b73b-15adabd4d5e4",
        "outputId": "153099ef-3e63-4c58-bcb7-3e8639344aec"
      },
      "outputs": [
        {
          "name": "stdout",
          "output_type": "stream",
          "text": [
            "     name  score\n",
            "0  Andrew   78.0\n",
            "1   Betty   82.0\n",
            "2   Candy   76.5\n",
            "3   David   75.0\n",
            "4   Ellen   76.5\n",
            "5    Gary   60.0\n"
          ]
        }
      ],
      "source": [
        "## option 2: impute missing data\n",
        "\n",
        "## (1) median imputation (you can also use mean)\n",
        "## --------------------------------------------\n",
        "df['score'] = df['score'].fillna(df['score'].median())\n",
        "print(df)"
      ]
    },
    {
      "cell_type": "markdown",
      "id": "02bea162-7175-4391-80aa-b7a31d1c072f",
      "metadata": {
        "id": "02bea162-7175-4391-80aa-b7a31d1c072f"
      },
      "source": [
        "## 2. Handling Duplicative Data"
      ]
    },
    {
      "cell_type": "code",
      "execution_count": 6,
      "id": "9552d9f3-f40c-4a42-a2b2-5759fa630f30",
      "metadata": {
        "colab": {
          "base_uri": "https://localhost:8080/"
        },
        "id": "9552d9f3-f40c-4a42-a2b2-5759fa630f30",
        "outputId": "307a3c26-6989-441e-bef9-149bd5c5ba49"
      },
      "outputs": [
        {
          "output_type": "stream",
          "name": "stdout",
          "text": [
            "Drive already mounted at /content/drive; to attempt to forcibly remount, call drive.mount(\"/content/drive\", force_remount=True).\n",
            "   sepal_length  sepal_width  petal_length  petal_width species\n",
            "0           5.1          3.5           1.4          0.2  setosa\n",
            "1           4.9          3.0           1.4          0.2  setosa\n",
            "2           4.7          3.2           1.3          0.2  setosa\n",
            "3           5.1          3.5           1.4          0.2  setosa\n",
            "4           4.9          3.0           1.4          0.2  setosa\n",
            "5           4.7          3.2           1.3          0.2  setosa\n"
          ]
        }
      ],
      "source": [
        "##For Jupyter Notebook\n",
        "##df = pd.read_csv('duplicative_data.csv')\n",
        "##print(df)\n",
        "\n",
        "##Use this for Google Colab\n",
        "##------------------------------------\n",
        "from google.colab import drive\n",
        "drive.mount('/content/drive')\n",
        "file_path = '/content/drive/MyDrive/MSc in Data Science/FDS/Shared/02_Codes/data/duplicative_data.csv'\n",
        "df = pd.read_csv(file_path)\n",
        "print(df)"
      ]
    },
    {
      "cell_type": "code",
      "execution_count": null,
      "id": "d344a6f7-94a7-49ef-b2f4-3c46fd217308",
      "metadata": {
        "id": "d344a6f7-94a7-49ef-b2f4-3c46fd217308",
        "outputId": "a1e567fa-ce96-497d-c3e1-6efd33fd458c"
      },
      "outputs": [
        {
          "name": "stdout",
          "output_type": "stream",
          "text": [
            "   sepal_length  sepal_width  petal_length  petal_width species\n",
            "0           5.1          3.5           1.4          0.2  setosa\n",
            "1           4.9          3.0           1.4          0.2  setosa\n",
            "2           4.7          3.2           1.3          0.2  setosa\n"
          ]
        }
      ],
      "source": [
        "df_cleaned = df.drop_duplicates()\n",
        "print(df_cleaned)"
      ]
    },
    {
      "cell_type": "code",
      "execution_count": 7,
      "id": "2148d9f3-58a4-4b2f-be00-179f6d012f06",
      "metadata": {
        "colab": {
          "base_uri": "https://localhost:8080/"
        },
        "id": "2148d9f3-58a4-4b2f-be00-179f6d012f06",
        "outputId": "f2c4514d-ea8e-40ff-f0e8-ad1de7e946ca"
      },
      "outputs": [
        {
          "output_type": "stream",
          "name": "stdout",
          "text": [
            "   sepal_length  sepal_width  petal_length  petal_width species\n",
            "0           5.1          3.5           1.4          0.2  setosa\n",
            "1           4.9          3.0           1.4          0.2  setosa\n",
            "2           4.7          3.2           1.3          0.2  setosa\n"
          ]
        }
      ],
      "source": [
        "df_cleaned=df.drop_duplicates()\n",
        "print(df_cleaned)"
      ]
    }
  ],
  "metadata": {
    "kernelspec": {
      "display_name": "Python 3 (ipykernel)",
      "language": "python",
      "name": "python3"
    },
    "language_info": {
      "codemirror_mode": {
        "name": "ipython",
        "version": 3
      },
      "file_extension": ".py",
      "mimetype": "text/x-python",
      "name": "python",
      "nbconvert_exporter": "python",
      "pygments_lexer": "ipython3",
      "version": "3.13.5"
    },
    "colab": {
      "provenance": [],
      "include_colab_link": true
    }
  },
  "nbformat": 4,
  "nbformat_minor": 5
}